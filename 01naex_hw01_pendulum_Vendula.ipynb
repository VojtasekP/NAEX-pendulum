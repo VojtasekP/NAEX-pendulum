{
  "cells": [
    {
      "cell_type": "markdown",
      "metadata": {
        "id": "view-in-github",
        "colab_type": "text"
      },
      "source": [
        "<a href=\"https://colab.research.google.com/github/VojtasekP/NAEX-pendulum/blob/main/01naex_hw01_pendulum_Vendula.ipynb\" target=\"_parent\"><img src=\"https://colab.research.google.com/assets/colab-badge.svg\" alt=\"Open In Colab\"/></a>"
      ]
    },
    {
      "cell_type": "markdown",
      "id": "3651abbe",
      "metadata": {
        "id": "3651abbe"
      },
      "source": [
        "# 01NAEX Project 01 - Pendulum study\n",
        "\n",
        "Add your team name(s), members, and roles here (optional)."
      ]
    },
    {
      "cell_type": "markdown",
      "id": "eb39016e",
      "metadata": {
        "id": "eb39016e"
      },
      "source": [
        "## Research Task\n",
        "\n",
        "Design and run an experiment to investigate which factors affect the period of a simple pendulum. For small release angles, classical theory predicts the period T depends only on the string length L:\n",
        "\n",
        "$T \\approx 2*\\pi*\\sqrt{\\frac{L}{g}} \\ \\ \\text{for} \\ \\ |\\theta| <= 10\\text{deg}$\n",
        "\n",
        "https://en.wikipedia.org/wiki/Pendulum_(mechanics)\n",
        "\n",
        "That is, for small angles the period should be independent of the bob's weight (mass) and approximately independent of angle. Your goal is to build an experiment that confirms that weight is not a significant factor, while verifying the expected length effect. You may optionally probe how well the \"small-angle\" approximation holds by using a couple of small angle levels.\n",
        "\n",
        "- Response variable: period T (seconds). Recommended protocol: time $N$ swings with a stopwatch and use $T = t_N / N$ to reduce reaction-time error.\n",
        "- Primary factors:\n",
        "  - Length $L$ (quantitative, choose >= 3 levels across your feasible range)\n",
        "  - Weight $m$ (mass of the bob; choose 2-3 levels). Theory: no effect on $T$.\n",
        "  - Release angle $\\theta$ (small angles: e.g., 5, 10, 20 degrees; choose >= 2 levels to test the approximation)\n",
        "- Optional nuisance/structure: operator (person), day/session, string type, pivot, ambient conditions. You may treat these as blocks or ignore them if you control them sufficiently.\n",
        "\n",
        "You decide whether to randomize run order, include operators, blocking, or repeated measurements - justify your choices using **design of experiments reasoning**."
      ]
    },
    {
      "cell_type": "markdown",
      "id": "dcaf9c0e",
      "metadata": {
        "id": "dcaf9c0e"
      },
      "source": [
        "## Design Guidance\n",
        "\n",
        "- Target the physics regime where the small-angle approximation is valid $(|\\theta| \\leq 10 deg)$. If you exceed this, discuss the implications.\n",
        "- Plan replicates/repeated measurements to mitigate stopwatch error (e.g., 3 repeats per treatment or average of 10-20 swings per timing).\n",
        "- If multiple operators participate, consider blocking by operator or using a mixed-effects model.\n",
        "- Randomize run order if practical; if not, explain how you controlled time-related drift.\n",
        "- Record all factor levels and the run order for traceability.\n",
        "- Power: Aim for $\\beta \\leq 0.1$  to detect a 0.1s change in T between mass levels at $\\alpha = 0.05$. Use a pilot SD (e.g., from 10 swings) to size the study."
      ]
    },
    {
      "cell_type": "markdown",
      "id": "3fd047a6",
      "metadata": {
        "id": "3fd047a6"
      },
      "source": [
        "## Submission\n",
        "\n",
        "Submit by the deadline in PDF, Rmd, or ipynb (Python or R). Include raw data (I prefer a link to the data in the code) and your analysis code with outputs. Ensure the report is self-contained and reproducible."
      ]
    },
    {
      "cell_type": "markdown",
      "id": "e4db6442",
      "metadata": {
        "id": "e4db6442"
      },
      "source": [
        "## Tasks / Questions\n",
        "\n",
        "1) Planning and design\n",
        "- Define your factors and levels ($L$, $m$, $\\theta$) and any nuisance variables (operators, sessions, etc.).\n",
        "- Specify the response and the measurement protocol ($N$ swings per timing, repeats per treatment, instrumentation, units).\n",
        "- State whether you will randomize or block; justify your choices.\n",
        "\n",
        "2) Power and sample size (pre-study)\n",
        "- Using a pilot SD (or a reasonable assumption), estimate how many replicates per treatment you need to achieve 80% power to detect a 2-3% change in $T$ between mass levels at $\\alpha = 0.05$. State assumptions clearly.\n",
        "\n",
        "3) Data collection and quality\n",
        "- Report the full data table (with run order if randomized) and basic summaries (mean, SD) by factor level.\n",
        "- Visualize the data (e.g., boxplots and mean+/-SE) across $L$, $m$, and $\\theta$.\n",
        "\n",
        "4) Primary analysis - ANOVA\n",
        "- Fit an ANOVA model for $T$ with factors $L$, $m$, $\\theta$. Consider interactions only if justified by design.\n",
        "- Test and interpret the effect of weight $m$. Report F, df, and p-values.\n",
        "\n",
        "5) ANOVA - multiple comparison (Tukey, LSD)\n",
        "- Find out if there is significant difference in means between different levels of $L$, $m$, $\\theta$.\n",
        "- Can we confirm the assumption that the mass of the blob does not matter?\n",
        "- Can we confirm the assumption that a small angle has no effect on the time T , but a larger one does?\n",
        "\n",
        "6) Assumptions and diagnostics\n",
        "- Provide residual plots (QQ-plot, residuals vs fitted, ...) and formal tests where relevant. Discuss any deviations and remedies.\n",
        "- Discuss the effect of the experimental design and the evolution of the residuals over time (order of measurements).\n",
        "\n",
        "7) Post-study power/reflection\n",
        "- Based on the observed SD and estimates, re-calc the achieved power of the test in the ANOVA for different lenghts of ropes and corresponding measuremnts and other factors.\n",
        "- Assume the difference in T we want to detect is 0.1s. Calculate the number of repetition needed for the power of the resulting test to be greater than 0.9.\n",
        "\n",
        "8) Alternative model - regression with quantitative factors\n",
        "- Fit a regression with T ~ sqrt(L) (or log T vs 0.5 log L) and include theta (as small quantitative) and m. Compare conclusions about m.\n",
        "- Choose model with significant variables.\n",
        "\n",
        "9) Conclusions\n",
        "- Summarize whether the data support the theoretical result (T depends on L; m not significant at small angles). Provide a minimal recommended design that would convincingly demonstrate this in future labs.\n",
        "\n",
        "10) (Optional) Estimate $g$\n",
        "- Use your best model to estimate $g$ and provide an interval. Compare to 9.81 $m/s^2$.\n"
      ]
    },
    {
      "cell_type": "markdown",
      "id": "9e03b080",
      "metadata": {
        "id": "9e03b080"
      },
      "source": [
        "### 1) Planning and design"
      ]
    },
    {
      "cell_type": "markdown",
      "source": [
        "**Experiment**\n",
        "-------------------\n",
        "* For measuring the angular deflection was used formula tg θ\n",
        "* We defined N=5 swings per timing with 3 repeats per treatment\n",
        "* Three operators measured time by stopwatch on the phone\n",
        "* Overall, 81 measurements were performed"
      ],
      "metadata": {
        "id": "f2OZkME__VCg"
      },
      "id": "f2OZkME__VCg"
    },
    {
      "cell_type": "markdown",
      "source": [
        "**Factors**\n",
        "---------------\n",
        "* Length (L) - 3 levels: 33 cm, 65,5 cm, 120 cm\n",
        "* Weight (m) - 3 levels: 77 g, 139 g, 220 g\n",
        "* Angle (θ) - 3 levels: 5 °, 10 ° 20 °\n",
        "\n"
      ],
      "metadata": {
        "id": "R3P-vnue8Y-u"
      },
      "id": "R3P-vnue8Y-u"
    },
    {
      "cell_type": "code",
      "source": [],
      "metadata": {
        "id": "Q8NC-xzX-WiK"
      },
      "id": "Q8NC-xzX-WiK",
      "execution_count": null,
      "outputs": []
    },
    {
      "cell_type": "code",
      "source": [],
      "metadata": {
        "id": "f1LzU4sOJf3W"
      },
      "id": "f1LzU4sOJf3W",
      "execution_count": null,
      "outputs": []
    },
    {
      "cell_type": "markdown",
      "id": "e42fbc4d",
      "metadata": {
        "id": "e42fbc4d"
      },
      "source": [
        "### 2) Power and sample size (pre-study)"
      ]
    },
    {
      "cell_type": "code",
      "source": [],
      "metadata": {
        "id": "9nny2qU6akbx"
      },
      "id": "9nny2qU6akbx",
      "execution_count": null,
      "outputs": []
    },
    {
      "cell_type": "markdown",
      "id": "fa7c76b3",
      "metadata": {
        "id": "fa7c76b3"
      },
      "source": [
        "### 3) Data collection and quality"
      ]
    },
    {
      "cell_type": "code",
      "source": [
        "import pandas as pd\n",
        "url = \"https://raw.githubusercontent.com/VojtasekP/NAEX-pendulum/refs/heads/main/NAEX_pendulum.csv\"\n",
        "data = pd.read_csv(url)\n",
        "print(data.head())\n",
        "print(\"---------------------------------------------------------------------------------\")\n",
        "print(data.describe())\n"
      ],
      "metadata": {
        "id": "Bkcc0m8Rah9C",
        "colab": {
          "base_uri": "https://localhost:8080/"
        },
        "outputId": "b10e984b-e444-447f-c53b-36f6b04b61de"
      },
      "id": "Bkcc0m8Rah9C",
      "execution_count": 1,
      "outputs": [
        {
          "output_type": "stream",
          "name": "stdout",
          "text": [
            "      L   m  angle  time_Sab  time_Flo  time_avg  period\n",
            "0  65.5  77      5      8.06      8.10     8.080   1.616\n",
            "1  65.5  77     10      8.24      8.23     8.235   1.647\n",
            "2  65.5  77     20      8.19      8.23     8.210   1.642\n",
            "3  33.0  77      5      5.83      5.26     5.545   1.109\n",
            "4  33.0  77     10      5.88      6.00     5.940   1.188\n",
            "---------------------------------------------------------------------------------\n",
            "                L           m      angle   time_Sab   time_Flo   time_avg  \\\n",
            "count   27.000000   27.000000  27.000000  27.000000  27.000000  27.000000   \n",
            "mean    72.833333  145.333333  11.666667   8.358519   8.326296   8.342407   \n",
            "std     36.577894   59.666380   6.354889   2.172763   2.227633   2.197652   \n",
            "min     33.000000   77.000000   5.000000   5.690000   5.260000   5.515000   \n",
            "25%     33.000000   77.000000   5.000000   5.890000   5.945000   5.917500   \n",
            "50%     65.500000  139.000000  10.000000   8.160000   8.150000   8.140000   \n",
            "75%    120.000000  220.000000  20.000000  10.985000  11.010000  11.012500   \n",
            "max    120.000000  220.000000  20.000000  11.210000  11.320000  11.155000   \n",
            "\n",
            "          period  \n",
            "count  27.000000  \n",
            "mean    1.668481  \n",
            "std     0.439530  \n",
            "min     1.103000  \n",
            "25%     1.183500  \n",
            "50%     1.628000  \n",
            "75%     2.202500  \n",
            "max     2.231000  \n"
          ]
        }
      ]
    },
    {
      "cell_type": "code",
      "source": [
        "T = data['period']\n",
        "L= data['L']\n",
        "m = data['m']\n",
        "θ = data['angle']"
      ],
      "metadata": {
        "id": "Rt53VGQ5ak33"
      },
      "id": "Rt53VGQ5ak33",
      "execution_count": 2,
      "outputs": []
    },
    {
      "cell_type": "code",
      "source": [
        "import seaborn as sns\n",
        "import matplotlib.pyplot as plt\n",
        "fig, axes = plt.subplots(2, 2, figsize=(10, 5))\n",
        "sns.boxplot(x=L, y=T, ax=axes[0, 0])\n",
        "axes[0,0].set_xlabel(\"L [cm]\")\n",
        "axes[0,0].set_ylabel(\"T [s]\")\n",
        "\n",
        "sns.boxplot(x=m, y=T, ax=axes[0,1])\n",
        "axes[0,1].set_xlabel(\"m [g]\")\n",
        "axes[0,1].set_ylabel(\"T [s]\")\n",
        "\n",
        "sns.boxplot(x=θ, y=T, ax=axes[1, 0])\n",
        "axes[1,0].set_xlabel(\"θ [°]\")\n",
        "axes[1,0].set_ylabel(\"T [s]\")\n",
        "\n",
        "sns.boxplot(x=m, y=L, ax=axes[1,1])\n",
        "axes[1,1].set_xlabel(\"m [g]\")\n",
        "axes[1,1].set_ylabel(\"L [cm]\")\n",
        "\n",
        "plt.tight_layout()\n",
        "plt.show()"
      ],
      "metadata": {
        "colab": {
          "base_uri": "https://localhost:8080/",
          "height": 316
        },
        "id": "kqu9EoELDxA-",
        "outputId": "dced40c4-d592-4491-936f-d2c34c068d85"
      },
      "id": "kqu9EoELDxA-",
      "execution_count": 3,
      "outputs": [
        {
          "output_type": "display_data",
          "data": {
            "text/plain": [
              "<Figure size 1000x500 with 4 Axes>"
            ],
            "image/png": "[encoded data removed]"
          },
          "metadata": {}
        }
      ]
    },
    {
      "cell_type": "code",
      "source": [
        "import pandas as pd\n",
        "import statsmodels.api as sm\n",
        "import seaborn as sns\n",
        "import matplotlib.pyplot as plt\n",
        "\n",
        "# assuming you already have:\n",
        "# T = data['period'], L = data['L'], m = data['m'], θ = data['angle']\n",
        "# all columns are in `data`\n",
        "\n",
        "# full table with run order if randomized\n",
        "data = data.reset_index().rename(columns={'index': 'run_order'})\n",
        "print(data.head())\n",
        "\n",
        "# summaries by each factor\n",
        "summary_L = data.groupby('L')['period'].agg(['mean', 'std']).reset_index()\n",
        "summary_m = data.groupby('m')['period'].agg(['mean', 'std']).reset_index()\n",
        "summary_theta = data.groupby('angle')['period'].agg(['mean', 'std']).reset_index()\n",
        "\n",
        "print(\"\\nSummary by L:\\n\", summary_L)\n",
        "print(\"\\nSummary by m:\\n\", summary_m)\n",
        "print(\"\\nSummary by θ:\\n\", summary_theta)\n"
      ],
      "metadata": {
        "colab": {
          "base_uri": "https://localhost:8080/"
        },
        "id": "Tr0Sg6l6AIOV",
        "outputId": "18032e3d-31e5-4452-8fab-c0a9a27e62bf"
      },
      "id": "Tr0Sg6l6AIOV",
      "execution_count": 4,
      "outputs": [
        {
          "output_type": "stream",
          "name": "stdout",
          "text": [
            "   run_order     L   m  angle  time_Sab  time_Flo  time_avg  period\n",
            "0          0  65.5  77      5      8.06      8.10     8.080   1.616\n",
            "1          1  65.5  77     10      8.24      8.23     8.235   1.647\n",
            "2          2  65.5  77     20      8.19      8.23     8.210   1.642\n",
            "3          3  33.0  77      5      5.83      5.26     5.545   1.109\n",
            "4          4  33.0  77     10      5.88      6.00     5.940   1.188\n",
            "\n",
            "Summary by L:\n",
            "        L      mean       std\n",
            "0   33.0  1.160111  0.031711\n",
            "1   65.5  1.632111  0.021351\n",
            "2  120.0  2.213222  0.018089\n",
            "\n",
            "Summary by m:\n",
            "      m      mean       std\n",
            "0   77  1.661889  0.470522\n",
            "1  139  1.678556  0.451492\n",
            "2  220  1.665000  0.449939\n",
            "\n",
            "Summary by θ:\n",
            "    angle      mean       std\n",
            "0      5  1.669000  0.462582\n",
            "1     10  1.670556  0.441573\n",
            "2     20  1.665889  0.467841\n"
          ]
        }
      ]
    },
    {
      "cell_type": "markdown",
      "id": "d3df7a0d",
      "metadata": {
        "id": "d3df7a0d"
      },
      "source": [
        "### 4) Primary analysis - ANOVA"
      ]
    },
    {
      "cell_type": "code",
      "source": [
        "import statsmodels.api as sm\n",
        "import statsmodels.formula.api as smf\n",
        "\n",
        "# Make sure categorical factors are coded correctly\n",
        "data['L'] = data['L'].astype('category')\n",
        "data['m'] = data['m'].astype('category')\n",
        "data['angle'] = data['angle'].astype('category')\n"
      ],
      "metadata": {
        "id": "QbICcOCcalTi"
      },
      "id": "QbICcOCcalTi",
      "execution_count": 5,
      "outputs": []
    },
    {
      "cell_type": "code",
      "source": [
        "# additive model (no interactions)\n",
        "model = smf.ols('period ~ C(L) + C(m) + C(angle)', data=data).fit()\n",
        "anova_table = sm.stats.anova_lm(model, typ=2)  # Type II for balanced designs\n",
        "print(anova_table)"
      ],
      "metadata": {
        "colab": {
          "base_uri": "https://localhost:8080/"
        },
        "id": "hKSIoUrxBHsk",
        "outputId": "9f74043d-64dc-4390-a8ff-3c1448c9c39f"
      },
      "id": "hKSIoUrxBHsk",
      "execution_count": 6,
      "outputs": [
        {
          "output_type": "stream",
          "name": "stdout",
          "text": [
            "            sum_sq    df            F        PR(>F)\n",
            "C(L)      5.008551   2.0  3914.743168  1.153155e-26\n",
            "C(m)      0.001414   2.0     1.104910  3.506305e-01\n",
            "C(angle)  0.000102   2.0     0.079435  9.239280e-01\n",
            "Residual  0.012794  20.0          NaN           NaN\n"
          ]
        }
      ]
    },
    {
      "cell_type": "code",
      "source": [
        "F_m = anova_table.loc['C(m)', 'F']\n",
        "df_m = (anova_table.loc['C(m)', 'df'], anova_table.loc['Residual', 'df'])\n",
        "p_m = anova_table.loc['C(m)', 'PR(>F)']\n",
        "\n",
        "print(f\"Effect of mass m: F({df_m[0]:.0f}, {df_m[1]:.0f}) = {F_m:.3f}, p = {p_m:.4f}\")\n"
      ],
      "metadata": {
        "colab": {
          "base_uri": "https://localhost:8080/"
        },
        "id": "zhcXymuyBPTW",
        "outputId": "84bc769d-8c7f-4ef4-cf62-ffb6a63df429"
      },
      "id": "zhcXymuyBPTW",
      "execution_count": 7,
      "outputs": [
        {
          "output_type": "stream",
          "name": "stdout",
          "text": [
            "Effect of mass m: F(2, 20) = 1.105, p = 0.3506\n"
          ]
        }
      ]
    },
    {
      "cell_type": "markdown",
      "id": "3f8b8bcf",
      "metadata": {
        "id": "3f8b8bcf"
      },
      "source": [
        "### 5) Tukey, LSD"
      ]
    },
    {
      "cell_type": "code",
      "source": [
        "from statsmodels.stats.multicomp import pairwise_tukeyhsd\n",
        "\n",
        "tukey_angle = pairwise_tukeyhsd(data['period'], data['angle'])\n",
        "print(tukey_angle)\n"
      ],
      "metadata": {
        "id": "-F9XLNwlamiw",
        "colab": {
          "base_uri": "https://localhost:8080/"
        },
        "outputId": "ea4681d2-b947-42e1-b339-226b7eb2d776"
      },
      "id": "-F9XLNwlamiw",
      "execution_count": 8,
      "outputs": [
        {
          "output_type": "stream",
          "name": "stdout",
          "text": [
            "Multiple Comparison of Means - Tukey HSD, FWER=0.05\n",
            "===================================================\n",
            "group1 group2 meandiff p-adj   lower  upper  reject\n",
            "---------------------------------------------------\n",
            "     5     10   0.0016    1.0  -0.537 0.5401  False\n",
            "     5     20  -0.0031 0.9999 -0.5417 0.5354  False\n",
            "    10     20  -0.0047 0.9997 -0.5432 0.5339  False\n",
            "---------------------------------------------------\n"
          ]
        }
      ]
    },
    {
      "cell_type": "code",
      "source": [
        "import seaborn as sns\n",
        "import matplotlib.pyplot as plt\n",
        "\n",
        "sns.pointplot(x='angle', y='period', data=data, errorbar='se')\n",
        "plt.title('Mean ± SE of Period vs Angle')\n",
        "plt.show()\n"
      ],
      "metadata": {
        "colab": {
          "base_uri": "https://localhost:8080/",
          "height": 472
        },
        "id": "jZaaC4V8EW_v",
        "outputId": "a9e2ae2d-1a19-415f-cd12-6ba6aa6dcea6"
      },
      "id": "jZaaC4V8EW_v",
      "execution_count": 9,
      "outputs": [
        {
          "output_type": "display_data",
          "data": {
            "text/plain": [
              "<Figure size 640x480 with 1 Axes>"
            ],
            "image/png": "[encoded data removed]"
          },
          "metadata": {}
        }
      ]
    },
    {
      "cell_type": "code",
      "source": [
        "model_int = smf.ols('period ~ C(L)*C(angle) + C(m)', data=data).fit()\n",
        "sm.stats.anova_lm(model_int, typ=2)"
      ],
      "metadata": {
        "colab": {
          "base_uri": "https://localhost:8080/",
          "height": 206
        },
        "id": "2ifLnEy5EX9t",
        "outputId": "ad371421-6091-4e15-c7a3-60d3a959a9a6"
      },
      "id": "2ifLnEy5EX9t",
      "execution_count": 15,
      "outputs": [
        {
          "output_type": "execute_result",
          "data": {
            "text/plain": [
              "                 sum_sq    df            F        PR(>F)\n",
              "C(L)           5.008551   2.0  4099.893524  2.069028e-22\n",
              "C(angle)       0.000102   2.0     0.083192  9.205700e-01\n",
              "C(m)           0.001414   2.0     1.157167  3.393367e-01\n",
              "C(L):C(angle)  0.003021   4.0     1.236478  3.349010e-01\n",
              "Residual       0.009773  16.0          NaN           NaN"
            ],
            "text/html": [
              "\n",
              "  <div id=\"df-ea037511-f484-4ecc-b0f2-dc643960b451\" class=\"colab-df-container\">\n",
              "    <div>\n",
              "<style scoped>\n",
              "    .dataframe tbody tr th:only-of-type {\n",
              "        vertical-align: middle;\n",
              "    }\n",
              "\n",
              "    .dataframe tbody tr th {\n",
              "        vertical-align: top;\n",
              "    }\n",
              "\n",
              "    .dataframe thead th {\n",
              "        text-align: right;\n",
              "    }\n",
              "</style>\n",
              "<table border=\"1\" class=\"dataframe\">\n",
              "  <thead>\n",
              "    <tr style=\"text-align: right;\">\n",
              "      <th></th>\n",
              "      <th>sum_sq</th>\n",
              "      <th>df</th>\n",
              "      <th>F</th>\n",
              "      <th>PR(&gt;F)</th>\n",
              "    </tr>\n",
              "  </thead>\n",
              "  <tbody>\n",
              "    <tr>\n",
              "      <th>C(L)</th>\n",
              "      <td>5.008551</td>\n",
              "      <td>2.0</td>\n",
              "      <td>4099.893524</td>\n",
              "      <td>2.069028e-22</td>\n",
              "    </tr>\n",
              "    <tr>\n",
              "      <th>C(angle)</th>\n",
              "      <td>0.000102</td>\n",
              "      <td>2.0</td>\n",
              "      <td>0.083192</td>\n",
              "      <td>9.205700e-01</td>\n",
              "    </tr>\n",
              "    <tr>\n",
              "      <th>C(m)</th>\n",
              "      <td>0.001414</td>\n",
              "      <td>2.0</td>\n",
              "      <td>1.157167</td>\n",
              "      <td>3.393367e-01</td>\n",
              "    </tr>\n",
              "    <tr>\n",
              "      <th>C(L):C(angle)</th>\n",
              "      <td>0.003021</td>\n",
              "      <td>4.0</td>\n",
              "      <td>1.236478</td>\n",
              "      <td>3.349010e-01</td>\n",
              "    </tr>\n",
              "    <tr>\n",
              "      <th>Residual</th>\n",
              "      <td>0.009773</td>\n",
              "      <td>16.0</td>\n",
              "      <td>NaN</td>\n",
              "      <td>NaN</td>\n",
              "    </tr>\n",
              "  </tbody>\n",
              "</table>\n",
              "</div>\n",
              "    <div class=\"colab-df-buttons\">\n",
              "\n",
              "  <div class=\"colab-df-container\">\n",
              "    <button class=\"colab-df-convert\" onclick=\"convertToInteractive('df-ea037511-f484-4ecc-b0f2-dc643960b451')\"\n",
              "            title=\"Convert this dataframe to an interactive table.\"\n",
              "            style=\"display:none;\">\n",
              "\n",
              "  <svg xmlns=\"http://www.w3.org/2000/svg\" height=\"24px\" viewBox=\"0 -960 960 960\">\n",
              "    <path d=\"M120-120v-720h720v720H120Zm60-500h600v-160H180v160Zm220 220h160v-160H400v160Zm0 220h160v-160H400v160ZM180-400h160v-160H180v160Zm440 0h160v-160H620v160ZM180-180h160v-160H180v160Zm440 0h160v-160H620v160Z\"/>\n",
              "  </svg>\n",
              "    </button>\n",
              "\n",
              "  <style>\n",
              "    .colab-df-container {\n",
              "      display:flex;\n",
              "      gap: 12px;\n",
              "    }\n",
              "\n",
              "    .colab-df-convert {\n",
              "      background-color: #E8F0FE;\n",
              "      border: none;\n",
              "      border-radius: 50%;\n",
              "      cursor: pointer;\n",
              "      display: none;\n",
              "      fill: #1967D2;\n",
              "      height: 32px;\n",
              "      padding: 0 0 0 0;\n",
              "      width: 32px;\n",
              "    }\n",
              "\n",
              "    .colab-df-convert:hover {\n",
              "      background-color: #E2EBFA;\n",
              "      box-shadow: 0px 1px 2px rgba(60, 64, 67, 0.3), 0px 1px 3px 1px rgba(60, 64, 67, 0.15);\n",
              "      fill: #174EA6;\n",
              "    }\n",
              "\n",
              "    .colab-df-buttons div {\n",
              "      margin-bottom: 4px;\n",
              "    }\n",
              "\n",
              "    [theme=dark] .colab-df-convert {\n",
              "      background-color: #3B4455;\n",
              "      fill: #D2E3FC;\n",
              "    }\n",
              "\n",
              "    [theme=dark] .colab-df-convert:hover {\n",
              "      background-color: #434B5C;\n",
              "      box-shadow: 0px 1px 3px 1px rgba(0, 0, 0, 0.15);\n",
              "      filter: drop-shadow(0px 1px 2px rgba(0, 0, 0, 0.3));\n",
              "      fill: #FFFFFF;\n",
              "    }\n",
              "  </style>\n",
              "\n",
              "    <script>\n",
              "      const buttonEl =\n",
              "        document.querySelector('#df-ea037511-f484-4ecc-b0f2-dc643960b451 button.colab-df-convert');\n",
              "      buttonEl.style.display =\n",
              "        google.colab.kernel.accessAllowed ? 'block' : 'none';\n",
              "\n",
              "      async function convertToInteractive(key) {\n",
              "        const element = document.querySelector('#df-ea037511-f484-4ecc-b0f2-dc643960b451');\n",
              "        const dataTable =\n",
              "          await google.colab.kernel.invokeFunction('convertToInteractive',\n",
              "                                                    [key], {});\n",
              "        if (!dataTable) return;\n",
              "\n",
              "        const docLinkHtml = 'Like what you see? Visit the ' +\n",
              "          '<a target=\"_blank\" href=https://colab.research.google.com/notebooks/data_table.ipynb>data table notebook</a>'\n",
              "          + ' to learn more about interactive tables.';\n",
              "        element.innerHTML = '';\n",
              "        dataTable['output_type'] = 'display_data';\n",
              "        await google.colab.output.renderOutput(dataTable, element);\n",
              "        const docLink = document.createElement('div');\n",
              "        docLink.innerHTML = docLinkHtml;\n",
              "        element.appendChild(docLink);\n",
              "      }\n",
              "    </script>\n",
              "  </div>\n",
              "\n",
              "\n",
              "    <div id=\"df-f375af3f-8d78-4a4c-8c14-55828d566933\">\n",
              "      <button class=\"colab-df-quickchart\" onclick=\"quickchart('df-f375af3f-8d78-4a4c-8c14-55828d566933')\"\n",
              "                title=\"Suggest charts\"\n",
              "                style=\"display:none;\">\n",
              "\n",
              "<svg xmlns=\"http://www.w3.org/2000/svg\" height=\"24px\"viewBox=\"0 0 24 24\"\n",
              "     width=\"24px\">\n",
              "    <g>\n",
              "        <path d=\"M19 3H5c-1.1 0-2 .9-2 2v14c0 1.1.9 2 2 2h14c1.1 0 2-.9 2-2V5c0-1.1-.9-2-2-2zM9 17H7v-7h2v7zm4 0h-2V7h2v10zm4 0h-2v-4h2v4z\"/>\n",
              "    </g>\n",
              "</svg>\n",
              "      </button>\n",
              "\n",
              "<style>\n",
              "  .colab-df-quickchart {\n",
              "      --bg-color: #E8F0FE;\n",
              "      --fill-color: #1967D2;\n",
              "      --hover-bg-color: #E2EBFA;\n",
              "      --hover-fill-color: #174EA6;\n",
              "      --disabled-fill-color: #AAA;\n",
              "      --disabled-bg-color: #DDD;\n",
              "  }\n",
              "\n",
              "  [theme=dark] .colab-df-quickchart {\n",
              "      --bg-color: #3B4455;\n",
              "      --fill-color: #D2E3FC;\n",
              "      --hover-bg-color: #434B5C;\n",
              "      --hover-fill-color: #FFFFFF;\n",
              "      --disabled-bg-color: #3B4455;\n",
              "      --disabled-fill-color: #666;\n",
              "  }\n",
              "\n",
              "  .colab-df-quickchart {\n",
              "    background-color: var(--bg-color);\n",
              "    border: none;\n",
              "    border-radius: 50%;\n",
              "    cursor: pointer;\n",
              "    display: none;\n",
              "    fill: var(--fill-color);\n",
              "    height: 32px;\n",
              "    padding: 0;\n",
              "    width: 32px;\n",
              "  }\n",
              "\n",
              "  .colab-df-quickchart:hover {\n",
              "    background-color: var(--hover-bg-color);\n",
              "    box-shadow: 0 1px 2px rgba(60, 64, 67, 0.3), 0 1px 3px 1px rgba(60, 64, 67, 0.15);\n",
              "    fill: var(--button-hover-fill-color);\n",
              "  }\n",
              "\n",
              "  .colab-df-quickchart-complete:disabled,\n",
              "  .colab-df-quickchart-complete:disabled:hover {\n",
              "    background-color: var(--disabled-bg-color);\n",
              "    fill: var(--disabled-fill-color);\n",
              "    box-shadow: none;\n",
              "  }\n",
              "\n",
              "  .colab-df-spinner {\n",
              "    border: 2px solid var(--fill-color);\n",
              "    border-color: transparent;\n",
              "    border-bottom-color: var(--fill-color);\n",
              "    animation:\n",
              "      spin 1s steps(1) infinite;\n",
              "  }\n",
              "\n",
              "  @keyframes spin {\n",
              "    0% {\n",
              "      border-color: transparent;\n",
              "      border-bottom-color: var(--fill-color);\n",
              "      border-left-color: var(--fill-color);\n",
              "    }\n",
              "    20% {\n",
              "      border-color: transparent;\n",
              "      border-left-color: var(--fill-color);\n",
              "      border-top-color: var(--fill-color);\n",
              "    }\n",
              "    30% {\n",
              "      border-color: transparent;\n",
              "      border-left-color: var(--fill-color);\n",
              "      border-top-color: var(--fill-color);\n",
              "      border-right-color: var(--fill-color);\n",
              "    }\n",
              "    40% {\n",
              "      border-color: transparent;\n",
              "      border-right-color: var(--fill-color);\n",
              "      border-top-color: var(--fill-color);\n",
              "    }\n",
              "    60% {\n",
              "      border-color: transparent;\n",
              "      border-right-color: var(--fill-color);\n",
              "    }\n",
              "    80% {\n",
              "      border-color: transparent;\n",
              "      border-right-color: var(--fill-color);\n",
              "      border-bottom-color: var(--fill-color);\n",
              "    }\n",
              "    90% {\n",
              "      border-color: transparent;\n",
              "      border-bottom-color: var(--fill-color);\n",
              "    }\n",
              "  }\n",
              "</style>\n",
              "\n",
              "      <script>\n",
              "        async function quickchart(key) {\n",
              "          const quickchartButtonEl =\n",
              "            document.querySelector('#' + key + ' button');\n",
              "          quickchartButtonEl.disabled = true;  // To prevent multiple clicks.\n",
              "          quickchartButtonEl.classList.add('colab-df-spinner');\n",
              "          try {\n",
              "            const charts = await google.colab.kernel.invokeFunction(\n",
              "                'suggestCharts', [key], {});\n",
              "          } catch (error) {\n",
              "            console.error('Error during call to suggestCharts:', error);\n",
              "          }\n",
              "          quickchartButtonEl.classList.remove('colab-df-spinner');\n",
              "          quickchartButtonEl.classList.add('colab-df-quickchart-complete');\n",
              "        }\n",
              "        (() => {\n",
              "          let quickchartButtonEl =\n",
              "            document.querySelector('#df-f375af3f-8d78-4a4c-8c14-55828d566933 button');\n",
              "          quickchartButtonEl.style.display =\n",
              "            google.colab.kernel.accessAllowed ? 'block' : 'none';\n",
              "        })();\n",
              "      </script>\n",
              "    </div>\n",
              "\n",
              "    </div>\n",
              "  </div>\n"
            ],
            "application/vnd.google.colaboratory.intrinsic+json": {
              "type": "dataframe",
              "summary": "{\n  \"name\": \"sm\",\n  \"rows\": 5,\n  \"fields\": [\n    {\n      \"column\": \"sum_sq\",\n      \"properties\": {\n        \"dtype\": \"number\",\n        \"std\": 2.238295548182971,\n        \"min\": 0.00010162962962963384,\n        \"max\": 5.008551407407409,\n        \"num_unique_values\": 5,\n        \"samples\": [\n          0.00010162962962963384,\n          0.009773037037037021,\n          0.001413629629629559\n        ],\n        \"semantic_type\": \"\",\n        \"description\": \"\"\n      }\n    },\n    {\n      \"column\": \"df\",\n      \"properties\": {\n        \"dtype\": \"number\",\n        \"std\": 6.099180272790763,\n        \"min\": 2.0,\n        \"max\": 16.0,\n        \"num_unique_values\": 3,\n        \"samples\": [\n          2.0,\n          4.0,\n          16.0\n        ],\n        \"semantic_type\": \"\",\n        \"description\": \"\"\n      }\n    },\n    {\n      \"column\": \"F\",\n      \"properties\": {\n        \"dtype\": \"number\",\n        \"std\": 2049.534023346518,\n        \"min\": 0.08319185059423109,\n        \"max\": 4099.893524132921,\n        \"num_unique_values\": 4,\n        \"samples\": [\n          0.08319185059423109,\n          1.236478292505458,\n          4099.893524132921\n        ],\n        \"semantic_type\": \"\",\n        \"description\": \"\"\n      }\n    },\n    {\n      \"column\": \"PR(>F)\",\n      \"properties\": {\n        \"dtype\": \"number\",\n        \"std\": 0.38249369223134444,\n        \"min\": 2.0690284862745187e-22,\n        \"max\": 0.9205699674745847,\n        \"num_unique_values\": 4,\n        \"samples\": [\n          0.9205699674745847,\n          0.33490098429860243,\n          2.0690284862745187e-22\n        ],\n        \"semantic_type\": \"\",\n        \"description\": \"\"\n      }\n    }\n  ]\n}"
            }
          },
          "metadata": {},
          "execution_count": 15
        }
      ]
    },
    {
      "cell_type": "markdown",
      "id": "a522178e",
      "metadata": {
        "id": "a522178e"
      },
      "source": [
        "### 6) Assumptions and diagnostics"
      ]
    },
    {
      "cell_type": "code",
      "source": [
        "# additive model just lenght\n",
        "model_sig = smf.ols('period ~ C(L)', data=data).fit()\n",
        "anova_table_1 = sm.stats.anova_lm(model_sig, typ=2)  # Type II for balanced designs\n",
        "print(anova_table_1)\n",
        "print(model_sig.summary())"
      ],
      "metadata": {
        "colab": {
          "base_uri": "https://localhost:8080/"
        },
        "outputId": "2d1858f4-45b6-4228-f4cf-f9b5f3f0ba8c",
        "id": "fiQGB5ShIjlC"
      },
      "execution_count": 33,
      "outputs": [
        {
          "output_type": "stream",
          "name": "stdout",
          "text": [
            "            sum_sq    df            F        PR(>F)\n",
            "C(L)      5.008551   2.0  4200.238787  2.857717e-31\n",
            "Residual  0.014309  24.0          NaN           NaN\n",
            "                            OLS Regression Results                            \n",
            "==============================================================================\n",
            "Dep. Variable:                 period   R-squared:                       0.997\n",
            "Model:                            OLS   Adj. R-squared:                  0.997\n",
            "Method:                 Least Squares   F-statistic:                     4200.\n",
            "Date:                Sat, 18 Oct 2025   Prob (F-statistic):           2.86e-31\n",
            "Time:                        21:32:22   Log-Likelihood:                 63.515\n",
            "No. Observations:                  27   AIC:                            -121.0\n",
            "Df Residuals:                      24   BIC:                            -117.1\n",
            "Df Model:                           2                                         \n",
            "Covariance Type:            nonrobust                                         \n",
            "=================================================================================\n",
            "                    coef    std err          t      P>|t|      [0.025      0.975]\n",
            "---------------------------------------------------------------------------------\n",
            "Intercept         1.1601      0.008    142.533      0.000       1.143       1.177\n",
            "C(L)[T.65.5]      0.4720      0.012     41.006      0.000       0.448       0.496\n",
            "C(L)[T.120.0]     1.0531      0.012     91.491      0.000       1.029       1.077\n",
            "==============================================================================\n",
            "Omnibus:                        4.599   Durbin-Watson:                   2.682\n",
            "Prob(Omnibus):                  0.100   Jarque-Bera (JB):                3.158\n",
            "Skew:                          -0.818   Prob(JB):                        0.206\n",
            "Kurtosis:                       3.365   Cond. No.                         3.73\n",
            "==============================================================================\n",
            "\n",
            "Notes:\n",
            "[1] Standard Errors assume that the covariance matrix of the errors is correctly specified.\n"
          ]
        }
      ],
      "id": "fiQGB5ShIjlC"
    },
    {
      "cell_type": "code",
      "source": [
        "resid = model_sig.resid\n",
        "fitted = model_sig.fittedvalues"
      ],
      "metadata": {
        "id": "62EqOIr9arYv"
      },
      "id": "62EqOIr9arYv",
      "execution_count": 35,
      "outputs": []
    },
    {
      "cell_type": "code",
      "source": [
        "sm.qqplot(resid, line='45', fit=True)\n",
        "plt.title('QQ Plot of Residuals')\n",
        "plt.show()\n"
      ],
      "metadata": {
        "colab": {
          "base_uri": "https://localhost:8080/",
          "height": 472
        },
        "id": "4b83cyXtE7Jc",
        "outputId": "1f1aff93-bc07-4d0c-a781-3074055b611e"
      },
      "id": "4b83cyXtE7Jc",
      "execution_count": 36,
      "outputs": [
        {
          "output_type": "display_data",
          "data": {
            "text/plain": [
              "<Figure size 640x480 with 1 Axes>"
            ],
            "image/png": "[encoded data removed]"
          },
          "metadata": {}
        }
      ]
    },
    {
      "cell_type": "code",
      "source": [
        "from scipy import stats\n",
        "# --- Shapiro-Wilk test ---\n",
        "shapiro_stat, shapiro_p = stats.shapiro(resid)\n",
        "print(f\"Shapiro–Wilk Test:\")\n",
        "print(f\"  Statistic = {shapiro_stat:.3f}\")\n",
        "print(f\"  p-value   = {shapiro_p:.3f}\")"
      ],
      "metadata": {
        "id": "-gbmhDYXLarB",
        "outputId": "91590dcb-58dd-4dfc-b09b-e17dbdbb154a",
        "colab": {
          "base_uri": "https://localhost:8080/"
        }
      },
      "id": "-gbmhDYXLarB",
      "execution_count": 37,
      "outputs": [
        {
          "output_type": "stream",
          "name": "stdout",
          "text": [
            "Shapiro–Wilk Test:\n",
            "  Statistic = 0.935\n",
            "  p-value   = 0.091\n"
          ]
        }
      ]
    },
    {
      "cell_type": "markdown",
      "source": [
        "QQ plot and Shapiro-Wilk test do not reject hypothesis, that residuals are normally distributed."
      ],
      "metadata": {
        "id": "to_03OCaNKbJ"
      },
      "id": "to_03OCaNKbJ"
    },
    {
      "cell_type": "code",
      "source": [
        "sns.scatterplot(x=fitted, y=resid)\n",
        "plt.axhline(0, color='red', linestyle='--')\n",
        "plt.title('Residuals vs Fitted Values')\n",
        "plt.xlabel('Fitted Period')\n",
        "plt.ylabel('Residuals')\n",
        "plt.show()\n"
      ],
      "metadata": {
        "colab": {
          "base_uri": "https://localhost:8080/",
          "height": 472
        },
        "id": "mCplf4nvE8Hj",
        "outputId": "0e2c16e2-e221-45d7-d46f-2319067e500d"
      },
      "id": "mCplf4nvE8Hj",
      "execution_count": 38,
      "outputs": [
        {
          "output_type": "display_data",
          "data": {
            "text/plain": [
              "<Figure size 640x480 with 1 Axes>"
            ],
            "image/png": "[encoded data removed]"
          },
          "metadata": {}
        }
      ]
    },
    {
      "cell_type": "markdown",
      "source": [
        "We can see two outliers which were probably caused by human mistake, because the measurement for shorter length was more dificult. Apart from that we can say that the residuals are homoscadastic."
      ],
      "metadata": {
        "id": "XrsA2YA1OaiU"
      },
      "id": "XrsA2YA1OaiU"
    },
    {
      "cell_type": "markdown",
      "id": "2b46ee79",
      "metadata": {
        "id": "2b46ee79"
      },
      "source": [
        "### 7) Post-study power/reflection"
      ]
    },
    {
      "cell_type": "code",
      "source": [
        "import numpy as np\n",
        "import pandas as pd\n",
        "from statsmodels.stats.power import FTestAnovaPower\n",
        "from collections import Counter\n",
        "\n",
        "# ---------- helpers ----------\n",
        "def pooled_within_sd(y, groups):\n",
        "    \"\"\"Pooled within-group SD for a one-way factor.\"\"\"\n",
        "    df = pd.DataFrame({'y': y, 'g': groups})\n",
        "    ss_within = 0.0\n",
        "    n_total = 0\n",
        "    k = df['g'].nunique()\n",
        "    for _, sub in df.groupby('g'):\n",
        "        n_i = len(sub)\n",
        "        if n_i < 2:\n",
        "            continue\n",
        "        ss_within += ((sub['y'] - sub['y'].mean())**2).sum()\n",
        "        n_total += n_i\n",
        "    df_within = n_total - k\n",
        "    return np.sqrt(ss_within / df_within)\n",
        "\n",
        "def cohens_f_from_means(means, sd_within, ns=None):\n",
        "    \"\"\"\n",
        "    Cohen's f for one-way ANOVA from group means and pooled within SD.\n",
        "    ns: list/array of group sizes; if None assume equal groups.\n",
        "    \"\"\"\n",
        "    means = np.asarray(means, dtype=float)\n",
        "    k = len(means)\n",
        "    if ns is None:\n",
        "        p = np.ones(k) / k\n",
        "    else:\n",
        "        ns = np.asarray(ns, dtype=float)\n",
        "        p = ns / ns.sum()\n",
        "    mu = np.sum(p * means)\n",
        "    sigma_m2 = np.sum(p * (means - mu)**2)          # variance of group means (prob-weighted)\n",
        "    return np.sqrt(sigma_m2 / (sd_within**2))\n",
        "\n",
        "def achieved_power_oneway(y, groups, alpha=0.05):\n",
        "    \"\"\"\n",
        "    Achieved power for a one-way ANOVA on factor 'groups' given data y.\n",
        "    Uses observed group means and pooled within SD. Assumes equal n per group\n",
        "    when passing to the power function (standard in statsmodels).\n",
        "    \"\"\"\n",
        "    y = np.asarray(y, dtype=float)\n",
        "    groups = pd.Series(groups)\n",
        "    k = groups.nunique()\n",
        "\n",
        "    # group stats\n",
        "    means = groups.groupby(groups).apply(lambda g: y[g.index].mean()).values\n",
        "    sd_w = pooled_within_sd(y, groups)\n",
        "\n",
        "    # Cohen's f\n",
        "    f = cohens_f_from_means(means, sd_w)\n",
        "\n",
        "    # n per group (rounded down to be conservative)\n",
        "    counts = groups.value_counts().sort_index().values\n",
        "    n_per_group = counts.min()\n",
        "\n",
        "    # achieved power\n",
        "    power = FTestAnovaPower().power(effect_size=f, k_groups=k, nobs=n_per_group, alpha=alpha)\n",
        "    return dict(k=k, n_per_group=int(n_per_group), sd_within=sd_w, f=f, power=power)\n",
        "\n",
        "def required_n_for_delta(sd_within, k, delta=0.1, alpha=0.05, target_power=0.9, scenario='conservative'):\n",
        "    \"\"\"\n",
        "    Map a target detectable difference Δ to Cohen's f and solve n per group.\n",
        "\n",
        "    scenario:\n",
        "      - 'conservative': only two levels differ by Δ, others equal\n",
        "            f = Δ / (sqrt(2k) * sd_within)\n",
        "      - 'linear': means linearly span range Δ across k levels\n",
        "            f = (Δ / sd_within) * sqrt((k + 1) / (12 * (k - 1)))\n",
        "    \"\"\"\n",
        "    if scenario == 'conservative':\n",
        "        f = delta / (np.sqrt(2 * k) * sd_within)\n",
        "    elif scenario == 'linear':\n",
        "        f = (delta / sd_within) * np.sqrt((k + 1) / (12 * (k - 1)))\n",
        "    else:\n",
        "        raise ValueError(\"scenario must be 'conservative' or 'linear'\")\n",
        "\n",
        "    n_needed = FTestAnovaPower().solve_power(effect_size=f, k_groups=k,\n",
        "                                             power=target_power, alpha=alpha)\n",
        "    # round up: repetitions per level\n",
        "    return int(np.ceil(n_needed)), f\n",
        "\n",
        "# ---------- run it for each factor ----------\n",
        "# Assume your DataFrame is named `data` with columns: 'period', 'L', 'm', 'angle'\n",
        "alpha = 0.05\n",
        "delta = 0.1\n",
        "target_power = 0.9\n",
        "\n",
        "# Achieved power with current data\n",
        "res_L = achieved_power_oneway(data['period'], data['L'], alpha=alpha)\n",
        "res_m = achieved_power_oneway(data['period'], data['m'], alpha=alpha)\n",
        "res_theta = achieved_power_oneway(data['period'], data['angle'], alpha=alpha)\n",
        "\n",
        "print(\"ACHIEVED POWER (observed effect sizes)\")\n",
        "print(f\"L:     k={res_L['k']}, n/level={res_L['n_per_group']}, sd_within={res_L['sd_within']:.4f}, f={res_L['f']:.3f}, power={res_L['power']:.3f}\")\n",
        "print(f\"m:     k={res_m['k']}, n/level={res_m['n_per_group']}, sd_within={res_m['sd_within']:.4f}, f={res_m['f']:.3f}, power={res_m['power']:.3f}\")\n",
        "print(f\"angle: k={res_theta['k']}, n/level={res_theta['n_per_group']}, sd_within={res_theta['sd_within']:.4f}, f={res_theta['f']:.3f}, power={res_theta['power']:.3f}\")\n",
        "\n",
        "# Required repetitions per level for Δ = 0.1 s\n",
        "def solve_required(data, factor, label):\n",
        "    sdw = pooled_within_sd(data['period'].values, data[factor].values)\n",
        "    k = data[factor].nunique()\n",
        "    n_conservative, f_conservative = required_n_for_delta(sdw, k, delta=delta, alpha=alpha,\n",
        "                                                          target_power=target_power, scenario='conservative')\n",
        "    n_linear, f_linear = required_n_for_delta(sdw, k, delta=delta, alpha=alpha,\n",
        "                                              target_power=target_power, scenario='linear')\n",
        "    print(f\"\\nREQUIRED n/level to detect Δ={delta:.3f}s with power≥{target_power} at α={alpha}  [{label}]\")\n",
        "    print(f\"  conservative (two levels differ): f={f_conservative:.3f}, n/level ≥ {n_conservative}\")\n",
        "    print(f\"  linear trend across all k levels: f={f_linear:.3f}, n/level ≥ {n_linear}\")\n",
        "\n",
        "solve_required(data, 'L', 'L')\n",
        "solve_required(data, 'm', 'm')\n",
        "solve_required(data, 'angle', 'angle')\n"
      ],
      "metadata": {
        "id": "as8IdKOfar6t",
        "colab": {
          "base_uri": "https://localhost:8080/"
        },
        "outputId": "6270f2b6-432f-439c-a87c-e02e0cbd18e7"
      },
      "id": "as8IdKOfar6t",
      "execution_count": null,
      "outputs": [
        {
          "output_type": "stream",
          "name": "stdout",
          "text": [
            "ACHIEVED POWER (observed effect sizes)\n",
            "L:     k=3, n/level=9, sd_within=0.0244, f=17.639, power=1.000\n",
            "m:     k=3, n/level=9, sd_within=0.4574, f=0.016, power=0.050\n",
            "angle: k=3, n/level=9, sd_within=0.4575, f=0.004, power=0.050\n",
            "\n",
            "REQUIRED n/level to detect Δ=0.100s with power≥0.9 at α=0.05  [L]\n",
            "  conservative (two levels differ): f=1.672, n/level ≥ 9\n",
            "  linear trend across all k levels: f=1.672, n/level ≥ 9\n",
            "\n",
            "REQUIRED n/level to detect Δ=0.100s with power≥0.9 at α=0.05  [m]\n",
            "  conservative (two levels differ): f=0.089, n/level ≥ 1592\n",
            "  linear trend across all k levels: f=0.089, n/level ≥ 1592\n",
            "\n",
            "REQUIRED n/level to detect Δ=0.100s with power≥0.9 at α=0.05  [angle]\n",
            "  conservative (two levels differ): f=0.089, n/level ≥ 1592\n",
            "  linear trend across all k levels: f=0.089, n/level ≥ 1592\n"
          ]
        },
        {
          "output_type": "stream",
          "name": "stderr",
          "text": [
            "/tmp/ipython-input-1191630999.py:49: FutureWarning: The default of observed=False is deprecated and will be changed to True in a future version of pandas. Pass observed=False to retain current behavior or observed=True to adopt the future default and silence this warning.\n",
            "  means = groups.groupby(groups).apply(lambda g: y[g.index].mean()).values\n",
            "/tmp/ipython-input-1191630999.py:13: FutureWarning: The default of observed=False is deprecated and will be changed to True in a future version of pandas. Pass observed=False to retain current behavior or observed=True to adopt the future default and silence this warning.\n",
            "  for _, sub in df.groupby('g'):\n",
            "/tmp/ipython-input-1191630999.py:49: FutureWarning: The default of observed=False is deprecated and will be changed to True in a future version of pandas. Pass observed=False to retain current behavior or observed=True to adopt the future default and silence this warning.\n",
            "  means = groups.groupby(groups).apply(lambda g: y[g.index].mean()).values\n",
            "/tmp/ipython-input-1191630999.py:13: FutureWarning: The default of observed=False is deprecated and will be changed to True in a future version of pandas. Pass observed=False to retain current behavior or observed=True to adopt the future default and silence this warning.\n",
            "  for _, sub in df.groupby('g'):\n",
            "/tmp/ipython-input-1191630999.py:49: FutureWarning: The default of observed=False is deprecated and will be changed to True in a future version of pandas. Pass observed=False to retain current behavior or observed=True to adopt the future default and silence this warning.\n",
            "  means = groups.groupby(groups).apply(lambda g: y[g.index].mean()).values\n",
            "/tmp/ipython-input-1191630999.py:13: FutureWarning: The default of observed=False is deprecated and will be changed to True in a future version of pandas. Pass observed=False to retain current behavior or observed=True to adopt the future default and silence this warning.\n",
            "  for _, sub in df.groupby('g'):\n",
            "/tmp/ipython-input-1191630999.py:13: FutureWarning: The default of observed=False is deprecated and will be changed to True in a future version of pandas. Pass observed=False to retain current behavior or observed=True to adopt the future default and silence this warning.\n",
            "  for _, sub in df.groupby('g'):\n"
          ]
        }
      ]
    },
    {
      "cell_type": "markdown",
      "id": "a5fb457c",
      "metadata": {
        "id": "a5fb457c"
      },
      "source": [
        "### 8) Alternative model - regression with quantitative factors"
      ]
    },
    {
      "cell_type": "code",
      "source": [
        "import numpy as np\n",
        "import statsmodels.api as sm\n",
        "import statsmodels.formula.api as smf\n",
        "\n",
        "# if factors are numeric, ensure correct dtype\n",
        "data['L'] = pd.to_numeric(data['L'], errors='coerce')\n",
        "data['m'] = pd.to_numeric(data['m'], errors='coerce')\n",
        "data['angle'] = pd.to_numeric(data['angle'], errors='coerce')\n",
        "\n",
        "data['sqrt_L'] = np.sqrt(data['L'])\n",
        "\n",
        "# model 1: T ~ sqrt(L) + m + angle\n",
        "model1 = smf.ols('period ~ sqrt_L + m + angle', data=data).fit()\n",
        "print(model1.summary())\n"
      ],
      "metadata": {
        "id": "CoioaKW5asYO",
        "colab": {
          "base_uri": "https://localhost:8080/"
        },
        "outputId": "da9ccf7f-97c9-4bd6-bc9a-986cd4f623bf"
      },
      "id": "CoioaKW5asYO",
      "execution_count": null,
      "outputs": [
        {
          "output_type": "stream",
          "name": "stdout",
          "text": [
            "                            OLS Regression Results                            \n",
            "==============================================================================\n",
            "Dep. Variable:                 period   R-squared:                       0.997\n",
            "Model:                            OLS   Adj. R-squared:                  0.997\n",
            "Method:                 Least Squares   F-statistic:                     2689.\n",
            "Date:                Tue, 14 Oct 2025   Prob (F-statistic):           2.06e-29\n",
            "Time:                        09:41:31   Log-Likelihood:                 63.545\n",
            "No. Observations:                  27   AIC:                            -119.1\n",
            "Df Residuals:                      23   BIC:                            -113.9\n",
            "Df Model:                           3                                         \n",
            "Covariance Type:            nonrobust                                         \n",
            "==============================================================================\n",
            "                 coef    std err          t      P>|t|      [0.025      0.975]\n",
            "------------------------------------------------------------------------------\n",
            "Intercept     -0.0012      0.024     -0.050      0.960      -0.052       0.049\n",
            "sqrt_L         0.2022      0.002     89.823      0.000       0.198       0.207\n",
            "m           1.232e-05   8.19e-05      0.150      0.882      -0.000       0.000\n",
            "angle         -0.0002      0.001     -0.318      0.753      -0.002       0.001\n",
            "==============================================================================\n",
            "Omnibus:                        3.652   Durbin-Watson:                   2.664\n",
            "Prob(Omnibus):                  0.161   Jarque-Bera (JB):                2.766\n",
            "Skew:                          -0.784   Prob(JB):                        0.251\n",
            "Kurtosis:                       2.973   Cond. No.                         799.\n",
            "==============================================================================\n",
            "\n",
            "Notes:\n",
            "[1] Standard Errors assume that the covariance matrix of the errors is correctly specified.\n"
          ]
        }
      ]
    },
    {
      "cell_type": "code",
      "source": [
        "data['log_T'] = 0.5*np.log(data['period'])\n",
        "data['log_L'] = np.log(data['L'])\n",
        "\n",
        "model2 = smf.ols('log_T ~ log_L + m + angle', data=data).fit()\n",
        "print(model2.summary())\n"
      ],
      "metadata": {
        "colab": {
          "base_uri": "https://localhost:8080/"
        },
        "id": "s5KQ7iTQGDiC",
        "outputId": "2480aa12-b53b-4ac1-c3a4-81cef6e16085"
      },
      "id": "s5KQ7iTQGDiC",
      "execution_count": null,
      "outputs": [
        {
          "output_type": "stream",
          "name": "stdout",
          "text": [
            "                            OLS Regression Results                            \n",
            "==============================================================================\n",
            "Dep. Variable:                  log_T   R-squared:                       0.996\n",
            "Model:                            OLS   Adj. R-squared:                  0.995\n",
            "Method:                 Least Squares   F-statistic:                     1829.\n",
            "Date:                Tue, 14 Oct 2025   Prob (F-statistic):           1.71e-27\n",
            "Time:                        09:41:52   Log-Likelihood:                 90.270\n",
            "No. Observations:                  27   AIC:                            -172.5\n",
            "Df Residuals:                      23   BIC:                            -167.4\n",
            "Df Model:                           3                                         \n",
            "Covariance Type:            nonrobust                                         \n",
            "==============================================================================\n",
            "                 coef    std err          t      P>|t|      [0.025      0.975]\n",
            "------------------------------------------------------------------------------\n",
            "Intercept     -0.8022      0.015    -52.781      0.000      -0.834      -0.771\n",
            "log_L          0.2503      0.003     74.067      0.000       0.243       0.257\n",
            "m           1.728e-05   3.04e-05      0.568      0.576   -4.57e-05    8.02e-05\n",
            "angle         -0.0001      0.000     -0.458      0.651      -0.001       0.000\n",
            "==============================================================================\n",
            "Omnibus:                        8.311   Durbin-Watson:                   2.728\n",
            "Prob(Omnibus):                  0.016   Jarque-Bera (JB):                6.410\n",
            "Skew:                          -1.079   Prob(JB):                       0.0406\n",
            "Kurtosis:                       4.019   Cond. No.                     1.37e+03\n",
            "==============================================================================\n",
            "\n",
            "Notes:\n",
            "[1] Standard Errors assume that the covariance matrix of the errors is correctly specified.\n",
            "[2] The condition number is large, 1.37e+03. This might indicate that there are\n",
            "strong multicollinearity or other numerical problems.\n"
          ]
        }
      ]
    },
    {
      "cell_type": "code",
      "source": [
        "# drop m if not significant\n",
        "model3 = smf.ols('period ~ sqrt_L + angle', data=data).fit()\n",
        "print(model3.summary())\n"
      ],
      "metadata": {
        "colab": {
          "base_uri": "https://localhost:8080/"
        },
        "id": "wh_X-2YrGGF1",
        "outputId": "ca0b34de-b57a-4d48-b24c-cee1caf3627c"
      },
      "id": "wh_X-2YrGGF1",
      "execution_count": null,
      "outputs": [
        {
          "output_type": "stream",
          "name": "stdout",
          "text": [
            "                            OLS Regression Results                            \n",
            "==============================================================================\n",
            "Dep. Variable:                 period   R-squared:                       0.997\n",
            "Model:                            OLS   Adj. R-squared:                  0.997\n",
            "Method:                 Least Squares   F-statistic:                     4205.\n",
            "Date:                Tue, 14 Oct 2025   Prob (F-statistic):           2.82e-31\n",
            "Time:                        09:41:55   Log-Likelihood:                 63.531\n",
            "No. Observations:                  27   AIC:                            -121.1\n",
            "Df Residuals:                      24   BIC:                            -117.2\n",
            "Df Model:                           2                                         \n",
            "Covariance Type:            nonrobust                                         \n",
            "==============================================================================\n",
            "                 coef    std err          t      P>|t|      [0.025      0.975]\n",
            "------------------------------------------------------------------------------\n",
            "Intercept      0.0006      0.021      0.028      0.978      -0.042       0.043\n",
            "sqrt_L         0.2022      0.002     91.710      0.000       0.198       0.207\n",
            "angle         -0.0002      0.001     -0.325      0.748      -0.002       0.001\n",
            "==============================================================================\n",
            "Omnibus:                        3.941   Durbin-Watson:                   2.648\n",
            "Prob(Omnibus):                  0.139   Jarque-Bera (JB):                2.941\n",
            "Skew:                          -0.808   Prob(JB):                        0.230\n",
            "Kurtosis:                       3.045   Cond. No.                         67.9\n",
            "==============================================================================\n",
            "\n",
            "Notes:\n",
            "[1] Standard Errors assume that the covariance matrix of the errors is correctly specified.\n"
          ]
        }
      ]
    },
    {
      "cell_type": "code",
      "source": [
        "print(model1.aic, model2.aic, model3.aic)\n"
      ],
      "metadata": {
        "colab": {
          "base_uri": "https://localhost:8080/"
        },
        "id": "VWEV6D5JGIWT",
        "outputId": "01b5f9d1-9acc-4172-ad66-5a48c64a163d"
      },
      "id": "VWEV6D5JGIWT",
      "execution_count": null,
      "outputs": [
        {
          "output_type": "stream",
          "name": "stdout",
          "text": [
            "-119.08944679871149 -172.5405823274201 -121.06287770533106\n"
          ]
        }
      ]
    },
    {
      "cell_type": "markdown",
      "id": "3f58a893",
      "metadata": {
        "id": "3f58a893"
      },
      "source": [
        "### 9) Conclusions"
      ]
    },
    {
      "cell_type": "code",
      "source": [],
      "metadata": {
        "id": "kLl6dwI4bIj2"
      },
      "id": "kLl6dwI4bIj2",
      "execution_count": null,
      "outputs": []
    },
    {
      "cell_type": "markdown",
      "source": [
        "### 10) (Optional) Estimate g`"
      ],
      "metadata": {
        "id": "jRadq6kba_C6"
      },
      "id": "jRadq6kba_C6"
    },
    {
      "cell_type": "code",
      "source": [
        "import numpy as np\n",
        "import pandas as pd\n",
        "import statsmodels.formula.api as smf\n",
        "from scipy.stats import t\n",
        "\n",
        "# 1) prepare\n",
        "data = data.copy()\n",
        "data['L'] = pd.to_numeric(data['L'], errors='coerce')        # meters\n",
        "data['period'] = pd.to_numeric(data['period'], errors='coerce')  # seconds\n",
        "data['angle'] = pd.to_numeric(data['angle'], errors='coerce')    # degrees or radians; just be consistent\n",
        "\n",
        "# sqrt(L)\n",
        "data['sqrt_L'] = np.sqrt(data['L'])\n",
        "\n",
        "# optional but nice: center angle so beta is slope at ~small-angle regime\n",
        "data['angle_c'] = data['angle'] - data['angle'].mean()\n",
        "\n",
        "# 2) fit best model: T ~ sqrt(L) + angle (mass dropped)\n",
        "mod = smf.ols('period ~ sqrt_L + angle_c', data=data).fit()\n",
        "\n",
        "# 3) extract beta for sqrt_L and its t-interval\n",
        "beta = mod.params['sqrt_L']\n",
        "se = mod.bse['sqrt_L']\n",
        "df = int(mod.df_resid)\n",
        "alpha = 0.05\n",
        "tcrit = t.ppf(1 - alpha/2, df)\n",
        "\n",
        "beta_lo = beta - tcrit*se\n",
        "beta_hi = beta + tcrit*se\n",
        "\n",
        "# 4) transform to g and CI via endpoint transform\n",
        "# g = (2π / beta)^2 ; monotone decreasing in beta for beta>0\n",
        "c = (2*np.pi)**2\n",
        "\n",
        "g_hat = (2*np.pi / beta)**2\n",
        "g_lo  = (2*np.pi / beta_hi)**2  # note: hi beta -> lower g\n",
        "g_hi  = (2*np.pi / beta_lo)**2  # and lo beta -> higher g\n",
        "\n",
        "print(\"Model summary (so you can judge residuals and p-values):\")\n",
        "print(mod.summary())\n",
        "\n",
        "print(\"\\nGravity estimate from slope on sqrt(L):\")\n",
        "print(f\"beta = {beta:.6f}  (95% CI: {beta_lo:.6f} .. {beta_hi:.6f})\")\n",
        "print(f\"g_hat = {g_hat:.4f} m/s^2  (95% CI: {g_lo:.4f} .. {g_hi:.4f})\")\n",
        "\n",
        "# 5) compare to 9.81\n",
        "g_true = 9.81\n",
        "diff = g_hat - g_true\n",
        "rel = diff / g_true * 100\n",
        "inside = (g_lo <= g_true <= g_hi)\n",
        "print(f\"\\nCompare to 9.81 m/s^2:\")\n",
        "print(f\"Δ = {diff:+.4f} m/s^2  ({rel:+.2f}%); 9.81 inside CI? {inside}\")\n"
      ],
      "metadata": {
        "id": "dDWWTP8abC4Q",
        "colab": {
          "base_uri": "https://localhost:8080/"
        },
        "outputId": "bc5ed2c0-8e63-46be-dcaa-11a9005be279"
      },
      "id": "dDWWTP8abC4Q",
      "execution_count": null,
      "outputs": [
        {
          "output_type": "stream",
          "name": "stdout",
          "text": [
            "Model summary (so you can judge residuals and p-values):\n",
            "                            OLS Regression Results                            \n",
            "==============================================================================\n",
            "Dep. Variable:                 period   R-squared:                       0.997\n",
            "Model:                            OLS   Adj. R-squared:                  0.997\n",
            "Method:                 Least Squares   F-statistic:                     4205.\n",
            "Date:                Tue, 14 Oct 2025   Prob (F-statistic):           2.82e-31\n",
            "Time:                        09:43:18   Log-Likelihood:                 63.531\n",
            "No. Observations:                  27   AIC:                            -121.1\n",
            "Df Residuals:                      24   BIC:                            -117.2\n",
            "Df Model:                           2                                         \n",
            "Covariance Type:            nonrobust                                         \n",
            "==============================================================================\n",
            "                 coef    std err          t      P>|t|      [0.025      0.975]\n",
            "------------------------------------------------------------------------------\n",
            "Intercept     -0.0023      0.019     -0.121      0.905      -0.041       0.037\n",
            "sqrt_L         0.2022      0.002     91.710      0.000       0.198       0.207\n",
            "angle_c       -0.0002      0.001     -0.325      0.748      -0.002       0.001\n",
            "==============================================================================\n",
            "Omnibus:                        3.941   Durbin-Watson:                   2.648\n",
            "Prob(Omnibus):                  0.139   Jarque-Bera (JB):                2.941\n",
            "Skew:                          -0.808   Prob(JB):                        0.230\n",
            "Kurtosis:                       3.045   Cond. No.                         34.6\n",
            "==============================================================================\n",
            "\n",
            "Notes:\n",
            "[1] Standard Errors assume that the covariance matrix of the errors is correctly specified.\n",
            "\n",
            "Gravity estimate from slope on sqrt(L):\n",
            "beta = 0.202171  (95% CI: 0.197622 .. 0.206721)\n",
            "g_hat = 965.8730 m/s^2  (95% CI: 923.8245 .. 1010.8590)\n",
            "\n",
            "Compare to 9.81 m/s^2:\n",
            "Δ = +956.0630 m/s^2  (+9745.80%); 9.81 inside CI? False\n"
          ]
        }
      ]
    }
  ],
  "metadata": {
    "colab": {
      "provenance": [],
      "include_colab_link": true
    },
    "language_info": {
      "name": "python"
    },
    "kernelspec": {
      "name": "python3",
      "display_name": "Python 3"
    }
  },
  "nbformat": 4,
  "nbformat_minor": 5
}