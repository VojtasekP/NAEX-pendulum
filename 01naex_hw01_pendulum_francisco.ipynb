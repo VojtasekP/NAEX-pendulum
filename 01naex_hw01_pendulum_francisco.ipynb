{
 "cells": [
  {
   "cell_type": "markdown",
   "metadata": {
    "id": "3651abbe"
   },
   "source": [
    "# 01NAEX Project 01 - Pendulum study\n",
    "\n",
    "Add your team name(s), members, and roles here (optional)."
   ]
  },
  {
   "cell_type": "markdown",
   "metadata": {
    "id": "eb39016e"
   },
   "source": [
    "## Research Task\n",
    "\n",
    "Design and run an experiment to investigate which factors affect the period of a simple pendulum. For small release angles, classical theory predicts the period T depends only on the string length L:\n",
    "\n",
    "$T \\approx 2*\\pi*\\sqrt{\\frac{L}{g}} \\ \\ \\text{for} \\ \\ |\\theta| <= 10\\text{deg}$\n",
    "\n",
    "https://en.wikipedia.org/wiki/Pendulum_(mechanics)\n",
    "\n",
    "That is, for small angles the period should be independent of the bob's weight (mass) and approximately independent of angle. Your goal is to build an experiment that confirms that weight is not a significant factor, while verifying the expected length effect. You may optionally probe how well the \"small-angle\" approximation holds by using a couple of small angle levels.\n",
    "\n",
    "- Response variable: period T (seconds). Recommended protocol: time $N$ swings with a stopwatch and use $T = t_N / N$ to reduce reaction-time error.\n",
    "- Primary factors:\n",
    "  - Length $L$ (quantitative, choose >= 3 levels across your feasible range)\n",
    "  - Weight $m$ (mass of the bob; choose 2-3 levels). Theory: no effect on $T$.\n",
    "  - Release angle $\\theta$ (small angles: e.g., 5, 10, 20 degrees; choose >= 2 levels to test the approximation)\n",
    "- Optional nuisance/structure: operator (person), day/session, string type, pivot, ambient conditions. You may treat these as blocks or ignore them if you control them sufficiently.\n",
    "\n",
    "You decide whether to randomize run order, include operators, blocking, or repeated measurements - justify your choices using **design of experiments reasoning**."
   ]
  },
  {
   "cell_type": "markdown",
   "metadata": {
    "id": "dcaf9c0e"
   },
   "source": [
    "## Design Guidance\n",
    "\n",
    "- Target the physics regime where the small-angle approximation is valid $(|\\theta| \\leq 10 deg)$. If you exceed this, discuss the implications.\n",
    "- Plan replicates/repeated measurements to mitigate stopwatch error (e.g., 3 repeats per treatment or average of 10-20 swings per timing).\n",
    "- If multiple operators participate, consider blocking by operator or using a mixed-effects model.\n",
    "- Randomize run order if practical; if not, explain how you controlled time-related drift.\n",
    "- Record all factor levels and the run order for traceability.\n",
    "- Power: Aim for $\\beta \\leq 0.1$  to detect a 0.1s change in T between mass levels at $\\alpha = 0.05$. Use a pilot SD (e.g., from 10 swings) to size the study."
   ]
  },
  {
   "cell_type": "markdown",
   "metadata": {
    "id": "3fd047a6"
   },
   "source": [
    "## Submission\n",
    "\n",
    "Submit by the deadline in PDF, Rmd, or ipynb (Python or R). Include raw data (I prefer a link to the data in the code) and your analysis code with outputs. Ensure the report is self-contained and reproducible."
   ]
  },
  {
   "cell_type": "markdown",
   "metadata": {
    "id": "7pPuEPSlJxUW"
   },
   "source": []
  },
  {
   "cell_type": "markdown",
   "metadata": {
    "id": "e4db6442"
   },
   "source": [
    "## Tasks / Questions\n",
    "\n",
    "1) Planning and design\n",
    "- Define your factors and levels ($L$, $m$, $\\theta$) and any nuisance variables (operators, sessions, etc.).\n",
    "- Specify the response and the measurement protocol ($N$ swings per timing, repeats per treatment, instrumentation, units).\n",
    "- State whether you will randomize or block; justify your choices.\n",
    "\n",
    "2) Power and sample size (pre-study)\n",
    "- Using a pilot SD (or a reasonable assumption), estimate how many replicates per treatment you need to achieve 80% power to detect a 2-3% change in $T$ between mass levels at $\\alpha = 0.05$. State assumptions clearly.\n",
    "\n",
    "3) Data collection and quality\n",
    "- Report the full data table (with run order if randomized) and basic summaries (mean, SD) by factor level.\n",
    "- Visualize the data (e.g., boxplots and mean+/-SE) across $L$, $m$, and $\\theta$.\n",
    "\n",
    "4) Primary analysis - ANOVA\n",
    "- Fit an ANOVA model for $T$ with factors $L$, $m$, $\\theta$. Consider interactions only if justified by design.\n",
    "- Test and interpret the effect of weight $m$. Report F, df, and p-values.\n",
    "\n",
    "5) ANOVA - multiple comparison (Tukey, LSD)\n",
    "- Find out if there is significant difference in means between different levels of $L$, $m$, $\\theta$.\n",
    "- Can we confirm the assumption that the mass of the blob does not matter?\n",
    "- Can we confirm the assumption that a small angle has no effect on the time T , but a larger one does?\n",
    "\n",
    "6) Assumptions and diagnostics\n",
    "- Provide residual plots (QQ-plot, residuals vs fitted, ...) and formal tests where relevant. Discuss any deviations and remedies.\n",
    "- Discuss the effect of the experimental design and the evolution of the residuals over time (order of measurements).\n",
    "\n",
    "7) Post-study power/reflection\n",
    "- Based on the observed SD and estimates, re-calc the achieved power of the test in the ANOVA for different lenghts of ropes and corresponding measuremnts and other factors.\n",
    "- Assume the difference in T we want to detect is 0.1s. Calculate the number of repetition needed for the power of the resulting test to be greater than 0.9.\n",
    "\n",
    "8) Alternative model - regression with quantitative factors\n",
    "- Fit a regression with T ~ sqrt(L) (or log T vs 0.5 log L) and include theta (as small quantitative) and m. Compare conclusions about m.\n",
    "- Choose model with significant variables.\n",
    "\n",
    "9) Conclusions\n",
    "- Summarize whether the data support the theoretical result (T depends on L; m not significant at small angles). Provide a minimal recommended design that would convincingly demonstrate this in future labs.\n",
    "\n",
    "10) (Optional) Estimate $g$\n",
    "- Use your best model to estimate $g$ and provide an interval. Compare to 9.81 $m/s^2$.\n"
   ]
  },
  {
   "cell_type": "markdown",
   "metadata": {
    "id": "9e03b080"
   },
   "source": [
    "### 1) Planning and design"
   ]
  },
  {
   "cell_type": "markdown",
   "metadata": {
    "id": "f2OZkME__VCg"
   },
   "source": [
    "# **Experiment**\n",
    "-------------------\n",
    "**Preparation**\n",
    "* The pendulum mass was weighed using a digital scale.\n",
    "* The mass was attached to a string.\n",
    "* The upper end of the string was fixed to the bottom side of a support board, which was positioned above another board used for drawing reference angles.\n",
    "* The length L was defined as the distance between the point where the string was attached to the support board and the center of mass.\n",
    "* On the lower board, reference lines were drawn to indicate specific angle (θ).\n",
    "* The horizontal distance of each line from the vertical position was calculated using $$x=L⋅\\tan(θ)$$\n",
    "for the selected angles.\n",
    "\n",
    "**Measurement procedure**\n",
    "* One operator displaced the pendulum mass to the required angle θ and released it.\n",
    "* Two operators measured the time using a phone stopwatch.\n",
    "* Timing started when the pendulum mass first passed the vertical reference line.\n",
    "* The stopwatch was stopped after the fifth complete swing (N=5).\n",
    "* All factor levels and measurement repetitions were recorded.\n",
    "\n",
    "**Data processing**\n",
    "* For each treatment level, two repeated measurements were performed.\n",
    "* In total, 54 measurements were collected.\n",
    "* The measurements taken by the two operators were averaged to reduce random error.\n",
    "* The mean values were used to calculate the period T as $$T = \\frac{t_{N}}{N}$$\n",
    "* Overall, 27 periods are available.\n",
    "\n",
    "**Blocking and randomization**\n",
    "* Blocking was not applied because both operators measured simultaneously.\n",
    "* But the potential variability due to differences in human reaction time was controlled by averaging the measurements from the two operators for each treatment.\n",
    "* Randomization of the experimental runs was also not applied, because for each mass, all lengths and angles were measured in a fixed sequence.\n",
    "* This approach ensured that all combinations of factors were measured completely and consistently.\n",
    "\n",
    "# **Factors**\n",
    "--------------------\n",
    "* Length (L) - 3 levels: 33 cm, 65.5 cm, 120 cm\n",
    "* Weight (m) - 3 levels: 77 g, 139 g, 220 g\n",
    "* Angle (θ) - 3 levels: 5°, 10° 20°\n",
    "\n",
    "\n"
   ]
  },
  {
   "cell_type": "code",
   "execution_count": null,
   "metadata": {
    "colab": {
     "base_uri": "https://localhost:8080/"
    },
    "id": "Q8NC-xzX-WiK",
    "outputId": "9a68dc1b-458d-416d-bbe7-53841dd5896c"
   },
   "outputs": [
    {
     "name": "stdout",
     "output_type": "stream",
     "text": [
      "        L    m  angle  time_Sab  time_Flo  time_avg  period\n",
      "0    65.5   77      5      8.06      8.10     8.080   1.616\n",
      "1    65.5   77     10      8.24      8.23     8.235   1.647\n",
      "2    65.5   77     20      8.19      8.23     8.210   1.642\n",
      "3    33.0   77      5      5.83      5.26     5.545   1.109\n",
      "4    33.0   77     10      5.88      6.00     5.940   1.188\n",
      "5    33.0   77     20      5.69      5.34     5.515   1.103\n",
      "6   120.0   77      5     11.04     11.21    11.125   2.225\n",
      "7   120.0   77     10     11.04     11.01    11.025   2.205\n",
      "8   120.0   77     20     11.21     11.01    11.110   2.222\n",
      "9    65.5  220      5      8.04      8.08     8.060   1.612\n",
      "10   65.5  220     10      8.11      8.15     8.130   1.626\n",
      "11   65.5  220     20      8.09      7.96     8.025   1.605\n",
      "12   33.0  220      5      5.84      6.00     5.920   1.184\n",
      "13   33.0  220     10      5.83      5.87     5.850   1.170\n",
      "14   33.0  220     20      5.84      5.81     5.825   1.165\n",
      "15  120.0  220      5     11.08     11.23    11.155   2.231\n",
      "16  120.0  220     10     11.16     10.58    10.870   2.174\n",
      "17  120.0  220     20     11.14     11.04    11.090   2.218\n",
      "18   65.5  139      5      8.38      8.37     8.375   1.675\n",
      "19   65.5  139     10      8.28      8.00     8.140   1.628\n",
      "20   65.5  139     20      8.16      8.22     8.190   1.638\n",
      "21   33.0  139      5      5.89      5.80     5.845   1.169\n",
      "22   33.0  139     10      5.94      5.89     5.915   1.183\n",
      "23   33.0  139     20      5.89      5.81     5.850   1.170\n",
      "24  120.0  139      5     10.86     11.14    11.000   2.200\n",
      "25  120.0  139     10     10.99     11.15    11.070   2.214\n",
      "26  120.0  139     20     10.98     11.32    11.150   2.230\n",
      "---------------------------------------------------------------------------------\n",
      "                L           m      angle   time_Sab   time_Flo   time_avg  \\\n",
      "count   27.000000   27.000000  27.000000  27.000000  27.000000  27.000000   \n",
      "mean    72.833333  145.333333  11.666667   8.358519   8.326296   8.342407   \n",
      "std     36.577894   59.666380   6.354889   2.172763   2.227633   2.197652   \n",
      "min     33.000000   77.000000   5.000000   5.690000   5.260000   5.515000   \n",
      "25%     33.000000   77.000000   5.000000   5.890000   5.945000   5.917500   \n",
      "50%     65.500000  139.000000  10.000000   8.160000   8.150000   8.140000   \n",
      "75%    120.000000  220.000000  20.000000  10.985000  11.010000  11.012500   \n",
      "max    120.000000  220.000000  20.000000  11.210000  11.320000  11.155000   \n",
      "\n",
      "          period  \n",
      "count  27.000000  \n",
      "mean    1.668481  \n",
      "std     0.439530  \n",
      "min     1.103000  \n",
      "25%     1.183500  \n",
      "50%     1.628000  \n",
      "75%     2.202500  \n",
      "max     2.231000  \n"
     ]
    }
   ],
   "source": [
    "import pandas as pd\n",
    "url = \"https://raw.githubusercontent.com/VojtasekP/NAEX-pendulum/refs/heads/main/NAEX_pendulum.csv\"\n",
    "data = pd.read_csv(url)\n",
    "print(data)\n",
    "print(\"---------------------------------------------------------------------------------\")\n",
    "print(data.describe())"
   ]
  },
  {
   "cell_type": "code",
   "execution_count": null,
   "metadata": {
    "id": "f1LzU4sOJf3W"
   },
   "outputs": [],
   "source": [
    "data['L'] = data['L']/100\n",
    "T = data['period']\n",
    "L= data['L']\n",
    "m = data['m']\n",
    "θ = data['angle']"
   ]
  },
  {
   "cell_type": "markdown",
   "metadata": {
    "id": "e42fbc4d"
   },
   "source": [
    "### 2) Power and sample size (pre-study)"
   ]
  },
  {
   "cell_type": "markdown",
   "metadata": {
    "id": "SUA5VJixctOj"
   },
   "source": [
    "Cohen’s *f* for ANOVA is defined as:\n",
    "\n",
    "$\n",
    "f = \\frac{\\sqrt{\\frac{1}{k}\\sum_{i=1}^{k}(\\mu_i - \\bar{\\mu})^2}}{\\sigma}\n",
    "$\n",
    "\n",
    "where  \n",
    "- $ \\mu_i $ are the group means,  \n",
    "- $ \\bar{\\mu} $ is the overall mean,  \n",
    "- $ k $ is the number of groups, and  \n",
    "- $ \\sigma $ is the within-group standard deviation."
   ]
  },
  {
   "cell_type": "code",
   "execution_count": null,
   "metadata": {
    "colab": {
     "base_uri": "https://localhost:8080/"
    },
    "id": "9nny2qU6akbx",
    "outputId": "81ffcfed-2052-4d0b-ab1b-8584f4a5e881"
   },
   "outputs": [
    {
     "name": "stdout",
     "output_type": "stream",
     "text": [
      "sigma_T = 0.025 s\n",
      "Δ (2%, 3%) = 0.02230 s, 0.03346 s\n",
      "Cohen f (2%, 3%) = 0.364, 0.546\n",
      "\n",
      "Power for 2% effect (f=0.364):\n",
      "  observations/group = 1 -> power=nan\n",
      "  observations/group = 2 -> power=0.076\n",
      "  observations/group = 3 -> power=0.110\n",
      "  observations/group = 4 -> power=0.146\n",
      "  observations/group = 5 -> power=0.184\n",
      "  observations/group = 9 -> power=0.337\n",
      "  observations/group =18 -> power=0.639\n",
      "  observations/group =36 -> power=0.927\n",
      "  observations/group for 80% power ≈ 25\n",
      "\n",
      "Power for 3% effect (f=0.546):\n",
      "  observations/group = 1 -> power=nan\n",
      "  observations/group = 2 -> power=0.110\n",
      "  observations/group = 3 -> power=0.193\n",
      "  observations/group = 4 -> power=0.281\n",
      "  observations/group = 5 -> power=0.368\n",
      "  observations/group = 9 -> power=0.662\n",
      "  observations/group =18 -> power=0.947\n",
      "  observations/group =36 -> power=0.999\n",
      "  observations/group for 80% power ≈ 11\n"
     ]
    }
   ],
   "source": [
    "import numpy as np\n",
    "from math import ceil\n",
    "from statsmodels.stats.power import FTestAnovaPower\n",
    "\n",
    "# Fixed scenario\n",
    "T_t = 1.1152          # in seconds, baseline period, for which the human reaction\n",
    "                      # is most influential, i.e. the 33cm\n",
    "                    # for L=65.5 its 1.622\n",
    "sigma_T = 0.025     # per-period SD from your timing (already divided by 5 periods)\n",
    "                   # this was derived from the average human reaction time study\n",
    "                   # which stated the reaction time SD to 90ms, perperiod std is than.\n",
    "                   # than sigma_T = sqrt(var(start+stop))/5=(√2×90)/ 5 ≈ 25 ms\n",
    "alpha = 0.05\n",
    "k_groups = 3       # three mass levels\n",
    "\n",
    "# Target relative differences (2% and 3%)\n",
    "deltas = [0.02*T_t, 0.03*T_t]   # absolute seconds\n",
    "\n",
    "# Cohen's f for 3 groups with means [-Δ/2, 0, +Δ/2]\n",
    "f_vals = []\n",
    "for delta in deltas:\n",
    "    means = np.array([-delta/2, 0.0, +delta/2])\n",
    "    var_means = (means**2).mean()\n",
    "    f_vals.append(np.sqrt(var_means) / sigma_T)\n",
    "\n",
    "print(f\"sigma_T = {sigma_T:.3f} s\")\n",
    "print(f\"Δ (2%, 3%) = {deltas[0]:.5f} s, {deltas[1]:.5f} s\")\n",
    "print(f\"Cohen f (2%, 3%) = {f_vals[0]:.3f}, {f_vals[1]:.3f}\")\n",
    "\n",
    "# Power vs replicates per mass level\n",
    "solver = FTestAnovaPower()\n",
    "for f, label in zip(f_vals, [\"2%\", \"3%\"]):\n",
    "    print(f\"\\nPower for {label} effect (f={f:.3f}):\")\n",
    "    for n in [3,6,9,12,15,27,54,108]:\n",
    "        pwr = solver.power(effect_size=f, k_groups=k_groups, nobs=n, alpha=alpha)\n",
    "        print(f\"  observations/group ={n//3:>2} -> power={pwr:.3f}\")\n",
    "    n80 = solver.solve_power(effect_size=f, k_groups=k_groups, power=0.80, alpha=alpha)\n",
    "    print(f\"  observations/group for 80% power ≈ {ceil(n80//3)}\")\n"
   ]
  },
  {
   "cell_type": "markdown",
   "metadata": {
    "id": "i5Greq7fZAHd"
   },
   "source": [
    "**We measured 27 measurements, which means 9 per weight group. Our power of anova would be around 0.337 for 2% difference and 0.662 for 3%**\n"
   ]
  },
  {
   "cell_type": "markdown",
   "metadata": {
    "id": "fa7c76b3"
   },
   "source": [
    "### 3) Data collection and quality"
   ]
  },
  {
   "cell_type": "markdown",
   "metadata": {
    "id": "kIykDHbggIGm"
   },
   "source": []
  },
  {
   "cell_type": "code",
   "execution_count": null,
   "metadata": {
    "colab": {
     "base_uri": "https://localhost:8080/",
     "height": 506
    },
    "id": "kqu9EoELDxA-",
    "outputId": "97b71c1d-5b12-4290-ef70-eabc476b0efc"
   },
   "outputs": [
    {
     "data": {
      "image/png": "[encoded data removed]",
      "text/plain": [
       "<Figure size 1000x500 with 4 Axes>"
      ]
     },
     "metadata": {},
     "output_type": "display_data"
    }
   ],
   "source": [
    "import seaborn as sns\n",
    "import matplotlib.pyplot as plt\n",
    "fig, axes = plt.subplots(2, 2, figsize=(10, 5))\n",
    "sns.boxplot(x=L, y=T, ax=axes[0, 0])\n",
    "axes[0,0].set_xlabel(\"L [cm]\")\n",
    "axes[0,0].set_ylabel(\"T [s]\")\n",
    "\n",
    "sns.boxplot(x=m, y=T, ax=axes[0,1])\n",
    "axes[0,1].set_xlabel(\"m [g]\")\n",
    "axes[0,1].set_ylabel(\"T [s]\")\n",
    "\n",
    "sns.boxplot(x=θ, y=T, ax=axes[1, 0])\n",
    "axes[1,0].set_xlabel(\"θ [°]\")\n",
    "axes[1,0].set_ylabel(\"T [s]\")\n",
    "\n",
    "sns.boxplot(x=m, y=L, ax=axes[1,1])\n",
    "axes[1,1].set_xlabel(\"m [g]\")\n",
    "axes[1,1].set_ylabel(\"L [cm]\")\n",
    "\n",
    "plt.tight_layout()\n",
    "plt.show()"
   ]
  },
  {
   "cell_type": "code",
   "execution_count": null,
   "metadata": {
    "colab": {
     "base_uri": "https://localhost:8080/"
    },
    "id": "Tr0Sg6l6AIOV",
    "outputId": "1fbf13de-42b4-40d3-b60f-f62085e3e52f"
   },
   "outputs": [
    {
     "name": "stdout",
     "output_type": "stream",
     "text": [
      "    run_order  run_order      L    m angle  time_Sab  time_Flo  time_avg  \\\n",
      "0           0          0  0.655   77     5      8.06      8.10     8.080   \n",
      "1           1          1  0.655   77    10      8.24      8.23     8.235   \n",
      "2           2          2  0.655   77    20      8.19      8.23     8.210   \n",
      "3           3          3  0.330   77     5      5.83      5.26     5.545   \n",
      "4           4          4  0.330   77    10      5.88      6.00     5.940   \n",
      "5           5          5  0.330   77    20      5.69      5.34     5.515   \n",
      "6           6          6  1.200   77     5     11.04     11.21    11.125   \n",
      "7           7          7  1.200   77    10     11.04     11.01    11.025   \n",
      "8           8          8  1.200   77    20     11.21     11.01    11.110   \n",
      "9           9          9  0.655  220     5      8.04      8.08     8.060   \n",
      "10         10         10  0.655  220    10      8.11      8.15     8.130   \n",
      "11         11         11  0.655  220    20      8.09      7.96     8.025   \n",
      "12         12         12  0.330  220     5      5.84      6.00     5.920   \n",
      "13         13         13  0.330  220    10      5.83      5.87     5.850   \n",
      "14         14         14  0.330  220    20      5.84      5.81     5.825   \n",
      "15         15         15  1.200  220     5     11.08     11.23    11.155   \n",
      "16         16         16  1.200  220    10     11.16     10.58    10.870   \n",
      "17         17         17  1.200  220    20     11.14     11.04    11.090   \n",
      "18         18         18  0.655  139     5      8.38      8.37     8.375   \n",
      "19         19         19  0.655  139    10      8.28      8.00     8.140   \n",
      "20         20         20  0.655  139    20      8.16      8.22     8.190   \n",
      "21         21         21  0.330  139     5      5.89      5.80     5.845   \n",
      "22         22         22  0.330  139    10      5.94      5.89     5.915   \n",
      "23         23         23  0.330  139    20      5.89      5.81     5.850   \n",
      "24         24         24  1.200  139     5     10.86     11.14    11.000   \n",
      "25         25         25  1.200  139    10     10.99     11.15    11.070   \n",
      "26         26         26  1.200  139    20     10.98     11.32    11.150   \n",
      "\n",
      "    period  \n",
      "0    1.616  \n",
      "1    1.647  \n",
      "2    1.642  \n",
      "3    1.109  \n",
      "4    1.188  \n",
      "5    1.103  \n",
      "6    2.225  \n",
      "7    2.205  \n",
      "8    2.222  \n",
      "9    1.612  \n",
      "10   1.626  \n",
      "11   1.605  \n",
      "12   1.184  \n",
      "13   1.170  \n",
      "14   1.165  \n",
      "15   2.231  \n",
      "16   2.174  \n",
      "17   2.218  \n",
      "18   1.675  \n",
      "19   1.628  \n",
      "20   1.638  \n",
      "21   1.169  \n",
      "22   1.183  \n",
      "23   1.170  \n",
      "24   2.200  \n",
      "25   2.214  \n",
      "26   2.230  \n",
      "\n",
      "Summary by L:\n",
      "        L      mean       std\n",
      "0  0.330  1.160111  0.031711\n",
      "1  0.655  1.632111  0.021351\n",
      "2  1.200  2.213222  0.018089\n",
      "\n",
      "Summary by m:\n",
      "      m      mean       std\n",
      "0   77  1.661889  0.470522\n",
      "1  139  1.678556  0.451492\n",
      "2  220  1.665000  0.449939\n",
      "\n",
      "Summary by θ:\n",
      "   angle      mean       std\n",
      "0     5  1.669000  0.462582\n",
      "1    10  1.670556  0.441573\n",
      "2    20  1.665889  0.467841\n"
     ]
    },
    {
     "name": "stderr",
     "output_type": "stream",
     "text": [
      "/tmp/ipython-input-1433368341.py:15: FutureWarning: The default of observed=False is deprecated and will be changed to True in a future version of pandas. Pass observed=False to retain current behavior or observed=True to adopt the future default and silence this warning.\n",
      "  summary_L = data.groupby('L')['period'].agg(['mean', 'std']).reset_index()\n",
      "/tmp/ipython-input-1433368341.py:16: FutureWarning: The default of observed=False is deprecated and will be changed to True in a future version of pandas. Pass observed=False to retain current behavior or observed=True to adopt the future default and silence this warning.\n",
      "  summary_m = data.groupby('m')['period'].agg(['mean', 'std']).reset_index()\n",
      "/tmp/ipython-input-1433368341.py:17: FutureWarning: The default of observed=False is deprecated and will be changed to True in a future version of pandas. Pass observed=False to retain current behavior or observed=True to adopt the future default and silence this warning.\n",
      "  summary_theta = data.groupby('angle')['period'].agg(['mean', 'std']).reset_index()\n"
     ]
    }
   ],
   "source": [
    "import pandas as pd\n",
    "import statsmodels.api as sm\n",
    "import seaborn as sns\n",
    "import matplotlib.pyplot as plt\n",
    "\n",
    "# assuming you already have:\n",
    "# T = data['period'], L = data['L'], m = data['m'], θ = data['angle']\n",
    "# all columns are in `data`\n",
    "\n",
    "# full table with run order if randomized\n",
    "data = data.reset_index().rename(columns={'index': 'run_order'})\n",
    "print(data.head())\n",
    "\n",
    "# summaries by each factor\n",
    "summary_L = data.groupby('L')['period'].agg(['mean', 'std']).reset_index()\n",
    "summary_m = data.groupby('m')['period'].agg(['mean', 'std']).reset_index()\n",
    "summary_theta = data.groupby('angle')['period'].agg(['mean', 'std']).reset_index()\n",
    "\n",
    "print(\"\\nSummary by L:\\n\", summary_L)\n",
    "print(\"\\nSummary by m:\\n\", summary_m)\n",
    "print(\"\\nSummary by θ:\\n\", summary_theta)\n"
   ]
  },
  {
   "cell_type": "code",
   "execution_count": null,
   "metadata": {
    "id": "S0ikCRgMyWzy"
   },
   "outputs": [],
   "source": [
    "array = np.array([0.98, 0.98, 0.98, 0.98, 0.98])"
   ]
  },
  {
   "cell_type": "markdown",
   "metadata": {
    "id": "d3df7a0d"
   },
   "source": [
    "### 4) Primary analysis - ANOVA"
   ]
  },
  {
   "cell_type": "code",
   "execution_count": null,
   "metadata": {
    "id": "QbICcOCcalTi"
   },
   "outputs": [],
   "source": [
    "import statsmodels.api as sm\n",
    "import statsmodels.formula.api as smf\n",
    "\n",
    "# Make sure categorical factors are coded correctly\n",
    "data['L'] = data['L'].astype('category')\n",
    "data['m'] = data['m'].astype('category')\n",
    "data['angle'] = data['angle'].astype('category')\n"
   ]
  },
  {
   "cell_type": "code",
   "execution_count": null,
   "metadata": {
    "colab": {
     "base_uri": "https://localhost:8080/"
    },
    "id": "hKSIoUrxBHsk",
    "outputId": "1e415a91-07c3-49fc-c652-ff24c28b724f"
   },
   "outputs": [
    {
     "name": "stdout",
     "output_type": "stream",
     "text": [
      "            sum_sq    df            F        PR(>F)\n",
      "C(L)      5.008551   2.0  3914.743168  1.153155e-26\n",
      "C(m)      0.001414   2.0     1.104910  3.506305e-01\n",
      "C(angle)  0.000102   2.0     0.079435  9.239280e-01\n",
      "Residual  0.012794  20.0          NaN           NaN\n"
     ]
    }
   ],
   "source": [
    "# additive model (no interactions)\n",
    "model = smf.ols('period ~ C(L) + C(m) + C(angle)', data=data).fit()\n",
    "anova_table = sm.stats.anova_lm(model, typ=2)  # Type II for balanced designs\n",
    "print(anova_table)"
   ]
  },
  {
   "cell_type": "code",
   "execution_count": null,
   "metadata": {
    "colab": {
     "base_uri": "https://localhost:8080/"
    },
    "id": "zhcXymuyBPTW",
    "outputId": "ce2f9253-2581-4dcd-d06b-f0b01f8f88ff"
   },
   "outputs": [
    {
     "name": "stdout",
     "output_type": "stream",
     "text": [
      "Effect of mass m: F(2, 20) = 1.105, p = 0.3506\n"
     ]
    }
   ],
   "source": [
    "F_m = anova_table.loc['C(m)', 'F']\n",
    "df_m = (anova_table.loc['C(m)', 'df'], anova_table.loc['Residual', 'df'])\n",
    "p_m = anova_table.loc['C(m)', 'PR(>F)']\n",
    "\n",
    "print(f\"Effect of mass m: F({df_m[0]:.0f}, {df_m[1]:.0f}) = {F_m:.3f}, p = {p_m:.4f}\")\n"
   ]
  },
  {
   "cell_type": "markdown",
   "metadata": {
    "id": "3f8b8bcf"
   },
   "source": [
    "### 5) Tukey, LSD"
   ]
  },
  {
   "cell_type": "code",
   "execution_count": null,
   "metadata": {
    "colab": {
     "base_uri": "https://localhost:8080/"
    },
    "id": "-F9XLNwlamiw",
    "outputId": "11fd364b-c8dc-40b1-dffb-59d78528c9ef"
   },
   "outputs": [
    {
     "name": "stdout",
     "output_type": "stream",
     "text": [
      "Multiple Comparison of Means - Tukey HSD, FWER=0.05\n",
      "===================================================\n",
      "group1 group2 meandiff p-adj   lower  upper  reject\n",
      "---------------------------------------------------\n",
      "     5     10   0.0016    1.0  -0.537 0.5401  False\n",
      "     5     20  -0.0031 0.9999 -0.5417 0.5354  False\n",
      "    10     20  -0.0047 0.9997 -0.5432 0.5339  False\n",
      "---------------------------------------------------\n",
      "Multiple Comparison of Means - Tukey HSD, FWER=0.05\n",
      "===================================================\n",
      "group1 group2 meandiff p-adj   lower  upper  reject\n",
      "---------------------------------------------------\n",
      "    77    139   0.0167 0.9967 -0.5218 0.5551  False\n",
      "    77    220   0.0031 0.9999 -0.5354 0.5416  False\n",
      "   139    220  -0.0136 0.9978  -0.552 0.5249  False\n",
      "---------------------------------------------------\n",
      "Multiple Comparison of Means - Tukey HSD, FWER=0.05\n",
      "=================================================\n",
      "group1 group2 meandiff p-adj lower  upper  reject\n",
      "-------------------------------------------------\n",
      "  0.33  0.655    0.472   0.0 0.4433 0.5007   True\n",
      "  0.33    1.2   1.0531   0.0 1.0244 1.0819   True\n",
      " 0.655    1.2   0.5811   0.0 0.5524 0.6099   True\n",
      "-------------------------------------------------\n"
     ]
    }
   ],
   "source": [
    "from statsmodels.stats.multicomp import pairwise_tukeyhsd\n",
    "\n",
    "tukey_angle = pairwise_tukeyhsd(data['period'], data['angle'])\n",
    "print(tukey_angle)\n",
    "tukey_m = pairwise_tukeyhsd(data['period'], data['m'])\n",
    "print(tukey_m)\n",
    "tukey_L = pairwise_tukeyhsd(data['period'], data['L'])\n",
    "print(tukey_L)"
   ]
  },
  {
   "cell_type": "code",
   "execution_count": null,
   "metadata": {
    "id": "CM5jGdLI1ORM"
   },
   "outputs": [],
   "source": []
  },
  {
   "cell_type": "code",
   "execution_count": null,
   "metadata": {
    "colab": {
     "base_uri": "https://localhost:8080/",
     "height": 472
    },
    "id": "jZaaC4V8EW_v",
    "outputId": "9bfdb576-087c-43e9-beff-5106b9a21931"
   },
   "outputs": [
    {
     "data": {
      "image/png": "[encoded data removed]",
      "text/plain": [
       "<Figure size 640x480 with 1 Axes>"
      ]
     },
     "metadata": {},
     "output_type": "display_data"
    }
   ],
   "source": [
    "import seaborn as sns\n",
    "import matplotlib.pyplot as plt\n",
    "\n",
    "sns.pointplot(x='angle', y='period', data=data, errorbar='se')\n",
    "plt.title('Mean ± SE of Period vs Angle')\n",
    "plt.show()\n"
   ]
  },
  {
   "cell_type": "markdown",
   "metadata": {
    "id": "a522178e"
   },
   "source": [
    "### 6) Assumptions and diagnostics"
   ]
  },
  {
   "cell_type": "code",
   "execution_count": null,
   "metadata": {
    "id": "62EqOIr9arYv"
   },
   "outputs": [],
   "source": [
    "resid = model.resid\n",
    "fitted = model.fittedvalues"
   ]
  },
  {
   "cell_type": "code",
   "execution_count": null,
   "metadata": {
    "colab": {
     "base_uri": "https://localhost:8080/",
     "height": 472
    },
    "id": "4b83cyXtE7Jc",
    "outputId": "717649ff-d070-450d-f1b6-94158fef57fb"
   },
   "outputs": [
    {
     "data": {
      "image/png": "[encoded data removed]",
      "text/plain": [
       "<Figure size 640x480 with 1 Axes>"
      ]
     },
     "metadata": {},
     "output_type": "display_data"
    }
   ],
   "source": [
    "sm.qqplot(resid, line='45', fit=True)\n",
    "plt.title('QQ Plot of Residuals')\n",
    "plt.show()\n"
   ]
  },
  {
   "cell_type": "code",
   "execution_count": null,
   "metadata": {
    "colab": {
     "base_uri": "https://localhost:8080/",
     "height": 472
    },
    "id": "mCplf4nvE8Hj",
    "outputId": "f4bcec5f-67d8-4e71-8c95-a9c69524c591"
   },
   "outputs": [
    {
     "data": {
      "image/png": "[encoded data removed]",
      "text/plain": [
       "<Figure size 640x480 with 1 Axes>"
      ]
     },
     "metadata": {},
     "output_type": "display_data"
    }
   ],
   "source": [
    "sns.scatterplot(x=fitted, y=resid)\n",
    "plt.axhline(0, color='red', linestyle='--')\n",
    "plt.title('Residuals vs Fitted Values')\n",
    "plt.xlabel('Fitted Period')\n",
    "plt.ylabel('Residuals')\n",
    "plt.show()\n"
   ]
  },
  {
   "cell_type": "markdown",
   "metadata": {
    "id": "2b46ee79"
   },
   "source": [
    "### 7) Post-study power/reflection"
   ]
  },
  {
   "cell_type": "code",
   "execution_count": null,
   "metadata": {
    "colab": {
     "base_uri": "https://localhost:8080/"
    },
    "id": "as8IdKOfar6t",
    "outputId": "ba628077-18fd-41c7-cdcc-f2a0d187be82"
   },
   "outputs": [
    {
     "name": "stdout",
     "output_type": "stream",
     "text": [
      "            sum_sq    df            F        PR(>F)\n",
      "C(L)      5.008551   2.0  4200.238787  2.857717e-31\n",
      "Residual  0.014309  24.0          NaN           NaN\n"
     ]
    }
   ],
   "source": [
    "model = smf.ols('T ~ C(L)', data).fit()\n",
    "anova_table = sm.stats.anova_lm(model, typ=2)\n",
    "print(anova_table)"
   ]
  },
  {
   "cell_type": "markdown",
   "metadata": {
    "id": "a5fb457c"
   },
   "source": [
    "### 8) Alternative model - regression with quantitative factors"
   ]
  },
  {
   "cell_type": "code",
   "execution_count": null,
   "metadata": {
    "id": "CoioaKW5asYO"
   },
   "outputs": [],
   "source": [
    "import numpy as np\n",
    "import statsmodels.api as sm\n",
    "import statsmodels.formula.api as smf\n",
    "\n",
    "# if factors are numeric, ensure correct dtype\n",
    "data['L'] = pd.to_numeric(data['L'], errors='coerce')\n",
    "data['m'] = pd.to_numeric(data['m'], errors='coerce')\n",
    "data['angle'] = pd.to_numeric(data['angle'], errors='coerce')\n",
    "\n",
    "data['sqrt_L'] = np.sqrt(data['L'])\n",
    "\n",
    "# model 1: T ~ sqrt(L) + m + angle\n",
    "model1 = smf.ols('period ~ sqrt_L + m + angle', data=data).fit()\n",
    "print(model1.summary())\n"
   ]
  },
  {
   "cell_type": "code",
   "execution_count": null,
   "metadata": {
    "id": "s5KQ7iTQGDiC"
   },
   "outputs": [],
   "source": [
    "data['log_T'] = 0.5*np.log(data['period'])\n",
    "data['log_L'] = np.log(data['L'])\n",
    "\n",
    "model2 = smf.ols('log_T ~ log_L + m + angle', data=data).fit()\n",
    "print(model2.summary())\n"
   ]
  },
  {
   "cell_type": "code",
   "execution_count": null,
   "metadata": {
    "id": "wh_X-2YrGGF1"
   },
   "outputs": [],
   "source": [
    "# drop m if not significant\n",
    "model3 = smf.ols('period ~ sqrt_L + angle', data=data).fit()\n",
    "print(model3.summary())\n"
   ]
  },
  {
   "cell_type": "code",
   "execution_count": null,
   "metadata": {
    "id": "ExvY_rejMsD2"
   },
   "outputs": [],
   "source": [
    "# drop m if not significant\n",
    "model4 = smf.ols('period ~ sqrt_L', data=data).fit()\n",
    "print(model4.summary())"
   ]
  },
  {
   "cell_type": "code",
   "execution_count": null,
   "metadata": {
    "id": "VWEV6D5JGIWT"
   },
   "outputs": [],
   "source": [
    "print(model1.aic, model2.aic, model3.aic, model4.aic)\n"
   ]
  },
  {
   "cell_type": "markdown",
   "metadata": {},
   "source": [
    "A regression analysis was performed to model the quantitative relationship between the factors and the period. The most effective and parsimonious model was **period ~ sqrt(L)**, as both mass and angle were found to be statistically insignificant predictors. This model demonstrated an excellent fit, with an **R-squared value of 0.997**, indicating that 99.7% of the variance in the period is explained by the square root of the length."
   ]
  },
  {
   "cell_type": "markdown",
   "metadata": {
    "id": "3f58a893"
   },
   "source": [
    "### 9) Conclusions"
   ]
  },
  {
   "cell_type": "markdown",
   "metadata": {
    "id": "BEoQRG9pLhRj"
   },
   "source": [
    "# **Conclusions**\n",
    "-----------------------------------\n",
    "This experiment is in agreement with the theoretical predictions for a simple pendulum. The measured period T increases with the pendulum length L, while variations in mass m and release angle θ showed no significant effect for small angles (∣θ∣≤20). The results confirm that the small-angle approximation is valid within the tested range of angles.\n",
    "\n",
    "These findings are strongly supported by our statistical analysis. The ANOVA confirmed that length was a highly significant factor (p < 0.001), while mass (p = 0.35) and angle (p = 0.92) were insignificant. Furthermore, the regression model period ~ sqrt(L) provided an excellent fit, explaining 99.7% of the variance (R² = 0.997).\n",
    "\n",
    "For future laboratory exercises, a minimal recommended design:\n",
    "* Using one representative mass, as mass does not affect the period at small angles.\n",
    "* Performing at least 9 measurements for each length to obtain reliable averages.\n",
    "* Keeping the release angle small (∣θ∣≤20).\n",
    "* Optionally averaging results if multiple operators are used to reduce reaction-time variability.\n"
   ]
  },
  {
   "cell_type": "markdown",
   "metadata": {
    "id": "jRadq6kba_C6"
   },
   "source": [
    "### 10) (Optional) Estimate g`"
   ]
  },
  {
   "cell_type": "code",
   "execution_count": null,
   "metadata": {
    "colab": {
     "base_uri": "https://localhost:8080/"
    },
    "id": "dDWWTP8abC4Q",
    "outputId": "c7a97e1c-aa10-46f0-ee0b-471f43c0c62c"
   },
   "outputs": [
    {
     "name": "stdout",
     "output_type": "stream",
     "text": [
      "Model summary (so you can judge residuals and p-values):\n",
      "                            OLS Regression Results                            \n",
      "==============================================================================\n",
      "Dep. Variable:                 period   R-squared:                       0.997\n",
      "Model:                            OLS   Adj. R-squared:                  0.997\n",
      "Method:                 Least Squares   F-statistic:                     8723.\n",
      "Date:                Sat, 18 Oct 2025   Prob (F-statistic):           2.51e-33\n",
      "Time:                        07:28:05   Log-Likelihood:                 63.472\n",
      "No. Observations:                  27   AIC:                            -122.9\n",
      "Df Residuals:                      25   BIC:                            -120.4\n",
      "Df Model:                           1                                         \n",
      "Covariance Type:            nonrobust                                         \n",
      "==============================================================================\n",
      "                 coef    std err          t      P>|t|      [0.025      0.975]\n",
      "------------------------------------------------------------------------------\n",
      "Intercept     -0.0023      0.018     -0.123      0.903      -0.040       0.036\n",
      "sqrt_L         2.0217      0.022     93.396      0.000       1.977       2.066\n",
      "==============================================================================\n",
      "Omnibus:                        3.906   Durbin-Watson:                   2.668\n",
      "Prob(Omnibus):                  0.142   Jarque-Bera (JB):                2.774\n",
      "Skew:                          -0.782   Prob(JB):                        0.250\n",
      "Kurtosis:                       3.149   Cond. No.                         7.99\n",
      "==============================================================================\n",
      "\n",
      "Notes:\n",
      "[1] Standard Errors assume that the covariance matrix of the errors is correctly specified.\n",
      "\n",
      "Gravity estimate from slope on sqrt(L):\n",
      "beta = 2.021715  (95% CI: 1.977133 .. 2.066297)\n",
      "g_hat = 9.6587 m/s^2  (95% CI: 9.2464 .. 10.0992)\n",
      "\n",
      "Compare to 9.81 m/s^2:\n",
      "Δ = -0.1513 m/s^2  (-1.54%); 9.81 inside CI? True\n"
     ]
    }
   ],
   "source": [
    "import numpy as np\n",
    "import pandas as pd\n",
    "import statsmodels.formula.api as smf\n",
    "from scipy.stats import t\n",
    "\n",
    "# 1) prepare\n",
    "data = data.copy()\n",
    "data['L'] = pd.to_numeric(data['L'], errors='coerce')        # meters\n",
    "data['period'] = pd.to_numeric(data['period'], errors='coerce')  # seconds\n",
    "data['angle'] = pd.to_numeric(data['angle'], errors='coerce')    # degrees or radians; just be consistent\n",
    "\n",
    "# sqrt(L)\n",
    "data['sqrt_L'] = np.sqrt(data['L'])\n",
    "\n",
    "# optional but nice: center angle so beta is slope at ~small-angle regime\n",
    "data['angle_c'] = data['angle'] - data['angle'].mean()\n",
    "\n",
    "# 2) fit best model: T ~ sqrt(L) + angle (mass dropped)\n",
    "mod = smf.ols('period ~ sqrt_L', data=data).fit()\n",
    "\n",
    "# 3) extract beta for sqrt_L and its t-interval\n",
    "beta = mod.params['sqrt_L']\n",
    "se = mod.bse['sqrt_L']\n",
    "df = int(mod.df_resid)\n",
    "alpha = 0.05\n",
    "tcrit = t.ppf(1 - alpha/2, df)\n",
    "\n",
    "beta_lo = beta - tcrit*se\n",
    "beta_hi = beta + tcrit*se\n",
    "\n",
    "# 4) transform to g and CI via endpoint transform\n",
    "# g = (2π / beta)^2 ; monotone decreasing in beta for beta>0\n",
    "c = (2*np.pi)**2\n",
    "\n",
    "g_hat = (2*np.pi / beta)**2\n",
    "g_lo  = (2*np.pi / beta_hi)**2  # note: hi beta -> lower g\n",
    "g_hi  = (2*np.pi / beta_lo)**2  # and lo beta -> higher g\n",
    "\n",
    "print(\"Model summary (so you can judge residuals and p-values):\")\n",
    "print(mod.summary())\n",
    "\n",
    "print(\"\\nGravity estimate from slope on sqrt(L):\")\n",
    "print(f\"beta = {beta:.6f}  (95% CI: {beta_lo:.6f} .. {beta_hi:.6f})\")\n",
    "print(f\"g_hat = {g_hat:.4f} m/s^2  (95% CI: {g_lo:.4f} .. {g_hi:.4f})\")\n",
    "\n",
    "# 5) compare to 9.81\n",
    "g_true = 9.81\n",
    "diff = g_hat - g_true\n",
    "rel = diff / g_true * 100\n",
    "inside = (g_lo <= g_true <= g_hi)\n",
    "print(f\"\\nCompare to 9.81 m/s^2:\")\n",
    "print(f\"Δ = {diff:+.4f} m/s^2  ({rel:+.2f}%); 9.81 inside CI? {inside}\")\n"
   ]
  },
  {
   "cell_type": "markdown",
   "metadata": {},
   "source": [
    "Leveraging the regression model, the slope coefficient for sqrt(L) (β = 2.022) was used to estimate the acceleration due to gravity, g. **Our experimental estimate is 9.66 m/s²**. We built a 95% confidence interval for this estimate which is (9.25 m/s², 10.10 m/s²). The real value of 9.81 m/s² falls within this interval, showing our experiment is statistically consistent with the real value."
   ]
  }
 ],
 "metadata": {
  "colab": {
   "provenance": []
  },
  "kernelspec": {
   "display_name": "Python 3",
   "language": "python",
   "name": "python3"
  },
  "language_info": {
   "codemirror_mode": {
    "name": "ipython",
    "version": 3
   },
   "file_extension": ".py",
   "mimetype": "text/x-python",
   "name": "python",
   "nbconvert_exporter": "python",
   "pygments_lexer": "ipython3",
   "version": "3.8.3"
  }
 },
 "nbformat": 4,
 "nbformat_minor": 5
}
